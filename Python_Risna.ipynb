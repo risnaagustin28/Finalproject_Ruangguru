{
  "nbformat": 4,
  "nbformat_minor": 0,
  "metadata": {
    "colab": {
      "provenance": [],
      "collapsed_sections": []
    },
    "kernelspec": {
      "name": "python3",
      "display_name": "Python 3"
    },
    "language_info": {
      "name": "python"
    }
  },
  "cells": [
    {
      "cell_type": "markdown",
      "source": [
        "# **Departemen Sales**"
      ],
      "metadata": {
        "id": "MYSyc_hr-PsO"
      }
    },
    {
      "cell_type": "markdown",
      "source": [
        "## Business Understanding"
      ],
      "metadata": {
        "id": "i-TZsAXD-aBZ"
      }
    },
    {
      "cell_type": "markdown",
      "source": [
        "Pricing strategi merupakan metode yang digunakan perusahaan untuk menentukan harga produk. Strategi penetapan harga sifatnya sangatlah penting bagi perkembangan bisnis perusahaan. Sebab, dengan menetapkan harga yang tepat, perusahaan bisa mendapatkan angka demand produk yang tinggi dan penjualan akan ikut meningkat.\n",
        "Salah satu cara untuk menetapkan harga produk yang sesuai, perusahaan dapat melakukan riset dari hasil penjualan sebelumnya. Oleh karena itu dibutuhkan data penjualan produk, adapun data yang digunakan berasal dari tabel order_items serta ditambah beberapa variable dari table product dan table order, variable tersebut antara lain tersebut antara lain:\n",
        "*   **product_name** = Nama produk\n",
        "*   **product_category** = Kategori produk\n",
        "*   **product_brands** = Merek produk \n",
        "*   **sale_price** = Harga jual produk \n",
        "*   **num_of_item** = Jumlah item produk yang dipesan\n",
        "*   **total_price** = Total pembelian\n",
        "\n"
      ],
      "metadata": {
        "id": "2Kw526cU-jep"
      }
    },
    {
      "cell_type": "markdown",
      "source": [
        "## Data Understanding"
      ],
      "metadata": {
        "id": "Ctd6AFGi9sg-"
      }
    },
    {
      "cell_type": "code",
      "source": [
        "from pprint import pprint\n",
        "from time import time\n",
        "\n",
        "import matplotlib.pyplot as plt\n",
        "import numpy as np\n",
        "import pandas as pd\n",
        "import seaborn as sns\n",
        "import statsmodels.api as sm\n",
        "from scipy import stats\n",
        "from sklearn.model_selection import train_test_split\n",
        "\n",
        "from sklearn.cluster import KMeans, MiniBatchKMeans\n",
        "from sklearn.metrics import silhouette_score\n",
        "from sklearn.preprocessing import StandardScaler, OneHotEncoder, MinMaxScaler"
      ],
      "metadata": {
        "id": "vaGrEfyH-FSV"
      },
      "execution_count": null,
      "outputs": []
    },
    {
      "cell_type": "code",
      "source": [
        "from google.colab import drive\n",
        "drive.mount('/content/drive')"
      ],
      "metadata": {
        "colab": {
          "base_uri": "https://localhost:8080/"
        },
        "id": "H-AcsifqArgk",
        "outputId": "1157ad47-50f8-437e-db6d-3661aab212cf"
      },
      "execution_count": null,
      "outputs": [
        {
          "output_type": "stream",
          "name": "stdout",
          "text": [
            "Mounted at /content/drive\n"
          ]
        }
      ]
    },
    {
      "cell_type": "code",
      "execution_count": null,
      "metadata": {
        "id": "vZbNOo3T8tnI"
      },
      "outputs": [],
      "source": [
        "data = pd.read_csv('/content/drive/MyDrive/ruangguru/finalproject/datafix2.csv')"
      ]
    },
    {
      "cell_type": "code",
      "source": [
        "data.head()"
      ],
      "metadata": {
        "id": "m1rE3thnA5dL",
        "colab": {
          "base_uri": "https://localhost:8080/",
          "height": 206
        },
        "outputId": "f7d239fe-e472-4e97-ef11-edf99fc973d7"
      },
      "execution_count": null,
      "outputs": [
        {
          "output_type": "execute_result",
          "data": {
            "text/plain": [
              "                                        product_name  \\\n",
              "0  Carhartt Men's Big-Tall Lightweight Thermal Kn...   \n",
              "1               Armani Exchange Zippered Logo Jacket   \n",
              "2  Speedo Women's X-Ray Vision Extreme Back Endur...   \n",
              "3  Smartwool NEW Women's PhD Outdoor Ultra Light ...   \n",
              "4  Allegra K Mens Elastic Waist Patch Pockets Str...   \n",
              "\n",
              "                product_category        product_brand  sale_price  \\\n",
              "0                    Tops & Tees             Carhartt   31.950001   \n",
              "1  Fashion Hoodies & Sweatshirts  A:X Armani Exchange  128.000000   \n",
              "2                           Swim               Speedo   64.949997   \n",
              "3                         Active            SmartWool   15.950000   \n",
              "4                          Pants            Allegra K   13.700000   \n",
              "\n",
              "   num_of_item gender  total_price  \n",
              "0            1      M    31.950001  \n",
              "1            1      F   128.000000  \n",
              "2            4      F   259.799988  \n",
              "3            3      F    47.849999  \n",
              "4            3      M    41.099999  "
            ],
            "text/html": [
              "\n",
              "  <div id=\"df-3e94a911-1616-4445-9cba-630b932024a7\">\n",
              "    <div class=\"colab-df-container\">\n",
              "      <div>\n",
              "<style scoped>\n",
              "    .dataframe tbody tr th:only-of-type {\n",
              "        vertical-align: middle;\n",
              "    }\n",
              "\n",
              "    .dataframe tbody tr th {\n",
              "        vertical-align: top;\n",
              "    }\n",
              "\n",
              "    .dataframe thead th {\n",
              "        text-align: right;\n",
              "    }\n",
              "</style>\n",
              "<table border=\"1\" class=\"dataframe\">\n",
              "  <thead>\n",
              "    <tr style=\"text-align: right;\">\n",
              "      <th></th>\n",
              "      <th>product_name</th>\n",
              "      <th>product_category</th>\n",
              "      <th>product_brand</th>\n",
              "      <th>sale_price</th>\n",
              "      <th>num_of_item</th>\n",
              "      <th>gender</th>\n",
              "      <th>total_price</th>\n",
              "    </tr>\n",
              "  </thead>\n",
              "  <tbody>\n",
              "    <tr>\n",
              "      <th>0</th>\n",
              "      <td>Carhartt Men's Big-Tall Lightweight Thermal Kn...</td>\n",
              "      <td>Tops &amp; Tees</td>\n",
              "      <td>Carhartt</td>\n",
              "      <td>31.950001</td>\n",
              "      <td>1</td>\n",
              "      <td>M</td>\n",
              "      <td>31.950001</td>\n",
              "    </tr>\n",
              "    <tr>\n",
              "      <th>1</th>\n",
              "      <td>Armani Exchange Zippered Logo Jacket</td>\n",
              "      <td>Fashion Hoodies &amp; Sweatshirts</td>\n",
              "      <td>A:X Armani Exchange</td>\n",
              "      <td>128.000000</td>\n",
              "      <td>1</td>\n",
              "      <td>F</td>\n",
              "      <td>128.000000</td>\n",
              "    </tr>\n",
              "    <tr>\n",
              "      <th>2</th>\n",
              "      <td>Speedo Women's X-Ray Vision Extreme Back Endur...</td>\n",
              "      <td>Swim</td>\n",
              "      <td>Speedo</td>\n",
              "      <td>64.949997</td>\n",
              "      <td>4</td>\n",
              "      <td>F</td>\n",
              "      <td>259.799988</td>\n",
              "    </tr>\n",
              "    <tr>\n",
              "      <th>3</th>\n",
              "      <td>Smartwool NEW Women's PhD Outdoor Ultra Light ...</td>\n",
              "      <td>Active</td>\n",
              "      <td>SmartWool</td>\n",
              "      <td>15.950000</td>\n",
              "      <td>3</td>\n",
              "      <td>F</td>\n",
              "      <td>47.849999</td>\n",
              "    </tr>\n",
              "    <tr>\n",
              "      <th>4</th>\n",
              "      <td>Allegra K Mens Elastic Waist Patch Pockets Str...</td>\n",
              "      <td>Pants</td>\n",
              "      <td>Allegra K</td>\n",
              "      <td>13.700000</td>\n",
              "      <td>3</td>\n",
              "      <td>M</td>\n",
              "      <td>41.099999</td>\n",
              "    </tr>\n",
              "  </tbody>\n",
              "</table>\n",
              "</div>\n",
              "      <button class=\"colab-df-convert\" onclick=\"convertToInteractive('df-3e94a911-1616-4445-9cba-630b932024a7')\"\n",
              "              title=\"Convert this dataframe to an interactive table.\"\n",
              "              style=\"display:none;\">\n",
              "        \n",
              "  <svg xmlns=\"http://www.w3.org/2000/svg\" height=\"24px\"viewBox=\"0 0 24 24\"\n",
              "       width=\"24px\">\n",
              "    <path d=\"M0 0h24v24H0V0z\" fill=\"none\"/>\n",
              "    <path d=\"M18.56 5.44l.94 2.06.94-2.06 2.06-.94-2.06-.94-.94-2.06-.94 2.06-2.06.94zm-11 1L8.5 8.5l.94-2.06 2.06-.94-2.06-.94L8.5 2.5l-.94 2.06-2.06.94zm10 10l.94 2.06.94-2.06 2.06-.94-2.06-.94-.94-2.06-.94 2.06-2.06.94z\"/><path d=\"M17.41 7.96l-1.37-1.37c-.4-.4-.92-.59-1.43-.59-.52 0-1.04.2-1.43.59L10.3 9.45l-7.72 7.72c-.78.78-.78 2.05 0 2.83L4 21.41c.39.39.9.59 1.41.59.51 0 1.02-.2 1.41-.59l7.78-7.78 2.81-2.81c.8-.78.8-2.07 0-2.86zM5.41 20L4 18.59l7.72-7.72 1.47 1.35L5.41 20z\"/>\n",
              "  </svg>\n",
              "      </button>\n",
              "      \n",
              "  <style>\n",
              "    .colab-df-container {\n",
              "      display:flex;\n",
              "      flex-wrap:wrap;\n",
              "      gap: 12px;\n",
              "    }\n",
              "\n",
              "    .colab-df-convert {\n",
              "      background-color: #E8F0FE;\n",
              "      border: none;\n",
              "      border-radius: 50%;\n",
              "      cursor: pointer;\n",
              "      display: none;\n",
              "      fill: #1967D2;\n",
              "      height: 32px;\n",
              "      padding: 0 0 0 0;\n",
              "      width: 32px;\n",
              "    }\n",
              "\n",
              "    .colab-df-convert:hover {\n",
              "      background-color: #E2EBFA;\n",
              "      box-shadow: 0px 1px 2px rgba(60, 64, 67, 0.3), 0px 1px 3px 1px rgba(60, 64, 67, 0.15);\n",
              "      fill: #174EA6;\n",
              "    }\n",
              "\n",
              "    [theme=dark] .colab-df-convert {\n",
              "      background-color: #3B4455;\n",
              "      fill: #D2E3FC;\n",
              "    }\n",
              "\n",
              "    [theme=dark] .colab-df-convert:hover {\n",
              "      background-color: #434B5C;\n",
              "      box-shadow: 0px 1px 3px 1px rgba(0, 0, 0, 0.15);\n",
              "      filter: drop-shadow(0px 1px 2px rgba(0, 0, 0, 0.3));\n",
              "      fill: #FFFFFF;\n",
              "    }\n",
              "  </style>\n",
              "\n",
              "      <script>\n",
              "        const buttonEl =\n",
              "          document.querySelector('#df-3e94a911-1616-4445-9cba-630b932024a7 button.colab-df-convert');\n",
              "        buttonEl.style.display =\n",
              "          google.colab.kernel.accessAllowed ? 'block' : 'none';\n",
              "\n",
              "        async function convertToInteractive(key) {\n",
              "          const element = document.querySelector('#df-3e94a911-1616-4445-9cba-630b932024a7');\n",
              "          const dataTable =\n",
              "            await google.colab.kernel.invokeFunction('convertToInteractive',\n",
              "                                                     [key], {});\n",
              "          if (!dataTable) return;\n",
              "\n",
              "          const docLinkHtml = 'Like what you see? Visit the ' +\n",
              "            '<a target=\"_blank\" href=https://colab.research.google.com/notebooks/data_table.ipynb>data table notebook</a>'\n",
              "            + ' to learn more about interactive tables.';\n",
              "          element.innerHTML = '';\n",
              "          dataTable['output_type'] = 'display_data';\n",
              "          await google.colab.output.renderOutput(dataTable, element);\n",
              "          const docLink = document.createElement('div');\n",
              "          docLink.innerHTML = docLinkHtml;\n",
              "          element.appendChild(docLink);\n",
              "        }\n",
              "      </script>\n",
              "    </div>\n",
              "  </div>\n",
              "  "
            ]
          },
          "metadata": {},
          "execution_count": 4
        }
      ]
    },
    {
      "cell_type": "markdown",
      "source": [
        "-- Insight --\n",
        "\n",
        "---\n",
        "\n",
        "\n",
        "\n",
        "Sebelum data diolah dengan menggunakan python, dilakukan proses pemilihan data dengan menggunakan query SQL adapun ketentuan-ketentuan dalam pemilihan data antara lain:\n",
        "*   Data transaksi yang digunakan hanya pada tahun 2020 saja\n",
        "*   Data transaksi yang digunakan hanya pada produk yang telah selesai dalam proses pembelian (Status Complete)\n",
        "*   Proses penanganan duplikat product_name sudah dilakukan dengan query SQL\n",
        "\n"
      ],
      "metadata": {
        "id": "yrb9QwjWPlHg"
      }
    },
    {
      "cell_type": "code",
      "source": [
        "data.shape"
      ],
      "metadata": {
        "colab": {
          "base_uri": "https://localhost:8080/"
        },
        "id": "P3vQnKhaA-IE",
        "outputId": "c2ac47ff-ed23-4290-830e-b28e47833eaf"
      },
      "execution_count": null,
      "outputs": [
        {
          "output_type": "execute_result",
          "data": {
            "text/plain": [
              "(24413, 7)"
            ]
          },
          "metadata": {},
          "execution_count": 5
        }
      ]
    },
    {
      "cell_type": "code",
      "source": [
        "data.info()"
      ],
      "metadata": {
        "colab": {
          "base_uri": "https://localhost:8080/"
        },
        "id": "bYJ0-toRA_vJ",
        "outputId": "a355a118-f58c-4273-ba20-44f9566218f6"
      },
      "execution_count": null,
      "outputs": [
        {
          "output_type": "stream",
          "name": "stdout",
          "text": [
            "<class 'pandas.core.frame.DataFrame'>\n",
            "RangeIndex: 24413 entries, 0 to 24412\n",
            "Data columns (total 7 columns):\n",
            " #   Column            Non-Null Count  Dtype  \n",
            "---  ------            --------------  -----  \n",
            " 0   product_name      24413 non-null  object \n",
            " 1   product_category  24413 non-null  object \n",
            " 2   product_brand     24413 non-null  object \n",
            " 3   sale_price        24413 non-null  float64\n",
            " 4   num_of_item       24413 non-null  int64  \n",
            " 5   gender            24413 non-null  object \n",
            " 6   total_price       24413 non-null  float64\n",
            "dtypes: float64(2), int64(1), object(4)\n",
            "memory usage: 1.3+ MB\n"
          ]
        }
      ]
    },
    {
      "cell_type": "code",
      "source": [
        "data.isna().sum()"
      ],
      "metadata": {
        "colab": {
          "base_uri": "https://localhost:8080/"
        },
        "id": "_qt8BaLYT0DG",
        "outputId": "c6d2245a-c6a6-44a5-98d8-c3b1c07f3a42"
      },
      "execution_count": null,
      "outputs": [
        {
          "output_type": "execute_result",
          "data": {
            "text/plain": [
              "product_name        0\n",
              "product_category    0\n",
              "product_brand       0\n",
              "sale_price          0\n",
              "num_of_item         0\n",
              "gender              0\n",
              "total_price         0\n",
              "dtype: int64"
            ]
          },
          "metadata": {},
          "execution_count": 15
        }
      ]
    },
    {
      "cell_type": "markdown",
      "source": [
        "-- Insight --\n",
        "\n",
        "---\n",
        "Terdapat 24413 baris dan 7 kolom dengan type data seperti interger, object dan float. Tidak terdapat missing value pada data, sehingga tidak perlu dilakukan penanganan missing value."
      ],
      "metadata": {
        "id": "G7cAqNBdNjip"
      }
    },
    {
      "cell_type": "code",
      "source": [
        "# menambahkan kolom total_price\n",
        "\n",
        "x = data[['product_name']].count()\n",
        "total_price = []\n",
        "for i in x:\n",
        "  total_price.append(data['sale_price'] * data['num_of_item'])\n",
        "\n",
        "total_price"
      ],
      "metadata": {
        "colab": {
          "base_uri": "https://localhost:8080/"
        },
        "id": "ZgyQTgwAQNGh",
        "outputId": "c2025e61-f4dd-44c5-a235-6621f68067bd"
      },
      "execution_count": null,
      "outputs": [
        {
          "output_type": "execute_result",
          "data": {
            "text/plain": [
              "[0         31.950001\n",
              " 1        128.000000\n",
              " 2        259.799988\n",
              " 3         47.849999\n",
              " 4         41.099999\n",
              "             ...    \n",
              " 24408    100.000000\n",
              " 24409     89.980003\n",
              " 24410    126.000000\n",
              " 24411     31.000000\n",
              " 24412    359.799988\n",
              " Length: 24413, dtype: float64]"
            ]
          },
          "metadata": {},
          "execution_count": 8
        }
      ]
    },
    {
      "cell_type": "code",
      "source": [
        "# Mengubah total_price kedalam bentuk dataframe dan mengubah total_price \n",
        "# kolom dengan menggunakan Transpose matrix\n",
        "\n",
        "total_price1 = pd.DataFrame(total_price)\n",
        "\n",
        "total_price2 = total_price1.T\n",
        "total_price2.head()"
      ],
      "metadata": {
        "colab": {
          "base_uri": "https://localhost:8080/",
          "height": 206
        },
        "id": "xPCdL5g0Q0Kb",
        "outputId": "b16a5f14-6c3f-4090-fd55-5cb0244f97cd"
      },
      "execution_count": null,
      "outputs": [
        {
          "output_type": "execute_result",
          "data": {
            "text/plain": [
              "            0\n",
              "0   31.950001\n",
              "1  128.000000\n",
              "2  259.799988\n",
              "3   47.849999\n",
              "4   41.099999"
            ],
            "text/html": [
              "\n",
              "  <div id=\"df-7b83ca17-d787-4930-86e8-c0947d68e76c\">\n",
              "    <div class=\"colab-df-container\">\n",
              "      <div>\n",
              "<style scoped>\n",
              "    .dataframe tbody tr th:only-of-type {\n",
              "        vertical-align: middle;\n",
              "    }\n",
              "\n",
              "    .dataframe tbody tr th {\n",
              "        vertical-align: top;\n",
              "    }\n",
              "\n",
              "    .dataframe thead th {\n",
              "        text-align: right;\n",
              "    }\n",
              "</style>\n",
              "<table border=\"1\" class=\"dataframe\">\n",
              "  <thead>\n",
              "    <tr style=\"text-align: right;\">\n",
              "      <th></th>\n",
              "      <th>0</th>\n",
              "    </tr>\n",
              "  </thead>\n",
              "  <tbody>\n",
              "    <tr>\n",
              "      <th>0</th>\n",
              "      <td>31.950001</td>\n",
              "    </tr>\n",
              "    <tr>\n",
              "      <th>1</th>\n",
              "      <td>128.000000</td>\n",
              "    </tr>\n",
              "    <tr>\n",
              "      <th>2</th>\n",
              "      <td>259.799988</td>\n",
              "    </tr>\n",
              "    <tr>\n",
              "      <th>3</th>\n",
              "      <td>47.849999</td>\n",
              "    </tr>\n",
              "    <tr>\n",
              "      <th>4</th>\n",
              "      <td>41.099999</td>\n",
              "    </tr>\n",
              "  </tbody>\n",
              "</table>\n",
              "</div>\n",
              "      <button class=\"colab-df-convert\" onclick=\"convertToInteractive('df-7b83ca17-d787-4930-86e8-c0947d68e76c')\"\n",
              "              title=\"Convert this dataframe to an interactive table.\"\n",
              "              style=\"display:none;\">\n",
              "        \n",
              "  <svg xmlns=\"http://www.w3.org/2000/svg\" height=\"24px\"viewBox=\"0 0 24 24\"\n",
              "       width=\"24px\">\n",
              "    <path d=\"M0 0h24v24H0V0z\" fill=\"none\"/>\n",
              "    <path d=\"M18.56 5.44l.94 2.06.94-2.06 2.06-.94-2.06-.94-.94-2.06-.94 2.06-2.06.94zm-11 1L8.5 8.5l.94-2.06 2.06-.94-2.06-.94L8.5 2.5l-.94 2.06-2.06.94zm10 10l.94 2.06.94-2.06 2.06-.94-2.06-.94-.94-2.06-.94 2.06-2.06.94z\"/><path d=\"M17.41 7.96l-1.37-1.37c-.4-.4-.92-.59-1.43-.59-.52 0-1.04.2-1.43.59L10.3 9.45l-7.72 7.72c-.78.78-.78 2.05 0 2.83L4 21.41c.39.39.9.59 1.41.59.51 0 1.02-.2 1.41-.59l7.78-7.78 2.81-2.81c.8-.78.8-2.07 0-2.86zM5.41 20L4 18.59l7.72-7.72 1.47 1.35L5.41 20z\"/>\n",
              "  </svg>\n",
              "      </button>\n",
              "      \n",
              "  <style>\n",
              "    .colab-df-container {\n",
              "      display:flex;\n",
              "      flex-wrap:wrap;\n",
              "      gap: 12px;\n",
              "    }\n",
              "\n",
              "    .colab-df-convert {\n",
              "      background-color: #E8F0FE;\n",
              "      border: none;\n",
              "      border-radius: 50%;\n",
              "      cursor: pointer;\n",
              "      display: none;\n",
              "      fill: #1967D2;\n",
              "      height: 32px;\n",
              "      padding: 0 0 0 0;\n",
              "      width: 32px;\n",
              "    }\n",
              "\n",
              "    .colab-df-convert:hover {\n",
              "      background-color: #E2EBFA;\n",
              "      box-shadow: 0px 1px 2px rgba(60, 64, 67, 0.3), 0px 1px 3px 1px rgba(60, 64, 67, 0.15);\n",
              "      fill: #174EA6;\n",
              "    }\n",
              "\n",
              "    [theme=dark] .colab-df-convert {\n",
              "      background-color: #3B4455;\n",
              "      fill: #D2E3FC;\n",
              "    }\n",
              "\n",
              "    [theme=dark] .colab-df-convert:hover {\n",
              "      background-color: #434B5C;\n",
              "      box-shadow: 0px 1px 3px 1px rgba(0, 0, 0, 0.15);\n",
              "      filter: drop-shadow(0px 1px 2px rgba(0, 0, 0, 0.3));\n",
              "      fill: #FFFFFF;\n",
              "    }\n",
              "  </style>\n",
              "\n",
              "      <script>\n",
              "        const buttonEl =\n",
              "          document.querySelector('#df-7b83ca17-d787-4930-86e8-c0947d68e76c button.colab-df-convert');\n",
              "        buttonEl.style.display =\n",
              "          google.colab.kernel.accessAllowed ? 'block' : 'none';\n",
              "\n",
              "        async function convertToInteractive(key) {\n",
              "          const element = document.querySelector('#df-7b83ca17-d787-4930-86e8-c0947d68e76c');\n",
              "          const dataTable =\n",
              "            await google.colab.kernel.invokeFunction('convertToInteractive',\n",
              "                                                     [key], {});\n",
              "          if (!dataTable) return;\n",
              "\n",
              "          const docLinkHtml = 'Like what you see? Visit the ' +\n",
              "            '<a target=\"_blank\" href=https://colab.research.google.com/notebooks/data_table.ipynb>data table notebook</a>'\n",
              "            + ' to learn more about interactive tables.';\n",
              "          element.innerHTML = '';\n",
              "          dataTable['output_type'] = 'display_data';\n",
              "          await google.colab.output.renderOutput(dataTable, element);\n",
              "          const docLink = document.createElement('div');\n",
              "          docLink.innerHTML = docLinkHtml;\n",
              "          element.appendChild(docLink);\n",
              "        }\n",
              "      </script>\n",
              "    </div>\n",
              "  </div>\n",
              "  "
            ]
          },
          "metadata": {},
          "execution_count": 12
        }
      ]
    },
    {
      "cell_type": "code",
      "source": [
        "# Menggabungkan kolom total_price dengan data\n",
        "\n",
        "data1 = data.assign(\n",
        "    total_price = total_price2\n",
        ")\n",
        "data1.head()"
      ],
      "metadata": {
        "colab": {
          "base_uri": "https://localhost:8080/",
          "height": 206
        },
        "id": "5CJKuD65QenB",
        "outputId": "86fb3f67-8bbc-4d8e-ca5b-e0548a0c6a53"
      },
      "execution_count": null,
      "outputs": [
        {
          "output_type": "execute_result",
          "data": {
            "text/plain": [
              "                                        product_name  \\\n",
              "0  Carhartt Men's Big-Tall Lightweight Thermal Kn...   \n",
              "1               Armani Exchange Zippered Logo Jacket   \n",
              "2  Speedo Women's X-Ray Vision Extreme Back Endur...   \n",
              "3  Smartwool NEW Women's PhD Outdoor Ultra Light ...   \n",
              "4  Allegra K Mens Elastic Waist Patch Pockets Str...   \n",
              "\n",
              "                product_category        product_brand  sale_price  \\\n",
              "0                    Tops & Tees             Carhartt   31.950001   \n",
              "1  Fashion Hoodies & Sweatshirts  A:X Armani Exchange  128.000000   \n",
              "2                           Swim               Speedo   64.949997   \n",
              "3                         Active            SmartWool   15.950000   \n",
              "4                          Pants            Allegra K   13.700000   \n",
              "\n",
              "   num_of_item gender  total_price  \n",
              "0            1      M    31.950001  \n",
              "1            1      F   128.000000  \n",
              "2            4      F   259.799988  \n",
              "3            3      F    47.849999  \n",
              "4            3      M    41.099999  "
            ],
            "text/html": [
              "\n",
              "  <div id=\"df-e47e01d6-edce-45f5-b76b-25eb26570a69\">\n",
              "    <div class=\"colab-df-container\">\n",
              "      <div>\n",
              "<style scoped>\n",
              "    .dataframe tbody tr th:only-of-type {\n",
              "        vertical-align: middle;\n",
              "    }\n",
              "\n",
              "    .dataframe tbody tr th {\n",
              "        vertical-align: top;\n",
              "    }\n",
              "\n",
              "    .dataframe thead th {\n",
              "        text-align: right;\n",
              "    }\n",
              "</style>\n",
              "<table border=\"1\" class=\"dataframe\">\n",
              "  <thead>\n",
              "    <tr style=\"text-align: right;\">\n",
              "      <th></th>\n",
              "      <th>product_name</th>\n",
              "      <th>product_category</th>\n",
              "      <th>product_brand</th>\n",
              "      <th>sale_price</th>\n",
              "      <th>num_of_item</th>\n",
              "      <th>gender</th>\n",
              "      <th>total_price</th>\n",
              "    </tr>\n",
              "  </thead>\n",
              "  <tbody>\n",
              "    <tr>\n",
              "      <th>0</th>\n",
              "      <td>Carhartt Men's Big-Tall Lightweight Thermal Kn...</td>\n",
              "      <td>Tops &amp; Tees</td>\n",
              "      <td>Carhartt</td>\n",
              "      <td>31.950001</td>\n",
              "      <td>1</td>\n",
              "      <td>M</td>\n",
              "      <td>31.950001</td>\n",
              "    </tr>\n",
              "    <tr>\n",
              "      <th>1</th>\n",
              "      <td>Armani Exchange Zippered Logo Jacket</td>\n",
              "      <td>Fashion Hoodies &amp; Sweatshirts</td>\n",
              "      <td>A:X Armani Exchange</td>\n",
              "      <td>128.000000</td>\n",
              "      <td>1</td>\n",
              "      <td>F</td>\n",
              "      <td>128.000000</td>\n",
              "    </tr>\n",
              "    <tr>\n",
              "      <th>2</th>\n",
              "      <td>Speedo Women's X-Ray Vision Extreme Back Endur...</td>\n",
              "      <td>Swim</td>\n",
              "      <td>Speedo</td>\n",
              "      <td>64.949997</td>\n",
              "      <td>4</td>\n",
              "      <td>F</td>\n",
              "      <td>259.799988</td>\n",
              "    </tr>\n",
              "    <tr>\n",
              "      <th>3</th>\n",
              "      <td>Smartwool NEW Women's PhD Outdoor Ultra Light ...</td>\n",
              "      <td>Active</td>\n",
              "      <td>SmartWool</td>\n",
              "      <td>15.950000</td>\n",
              "      <td>3</td>\n",
              "      <td>F</td>\n",
              "      <td>47.849999</td>\n",
              "    </tr>\n",
              "    <tr>\n",
              "      <th>4</th>\n",
              "      <td>Allegra K Mens Elastic Waist Patch Pockets Str...</td>\n",
              "      <td>Pants</td>\n",
              "      <td>Allegra K</td>\n",
              "      <td>13.700000</td>\n",
              "      <td>3</td>\n",
              "      <td>M</td>\n",
              "      <td>41.099999</td>\n",
              "    </tr>\n",
              "  </tbody>\n",
              "</table>\n",
              "</div>\n",
              "      <button class=\"colab-df-convert\" onclick=\"convertToInteractive('df-e47e01d6-edce-45f5-b76b-25eb26570a69')\"\n",
              "              title=\"Convert this dataframe to an interactive table.\"\n",
              "              style=\"display:none;\">\n",
              "        \n",
              "  <svg xmlns=\"http://www.w3.org/2000/svg\" height=\"24px\"viewBox=\"0 0 24 24\"\n",
              "       width=\"24px\">\n",
              "    <path d=\"M0 0h24v24H0V0z\" fill=\"none\"/>\n",
              "    <path d=\"M18.56 5.44l.94 2.06.94-2.06 2.06-.94-2.06-.94-.94-2.06-.94 2.06-2.06.94zm-11 1L8.5 8.5l.94-2.06 2.06-.94-2.06-.94L8.5 2.5l-.94 2.06-2.06.94zm10 10l.94 2.06.94-2.06 2.06-.94-2.06-.94-.94-2.06-.94 2.06-2.06.94z\"/><path d=\"M17.41 7.96l-1.37-1.37c-.4-.4-.92-.59-1.43-.59-.52 0-1.04.2-1.43.59L10.3 9.45l-7.72 7.72c-.78.78-.78 2.05 0 2.83L4 21.41c.39.39.9.59 1.41.59.51 0 1.02-.2 1.41-.59l7.78-7.78 2.81-2.81c.8-.78.8-2.07 0-2.86zM5.41 20L4 18.59l7.72-7.72 1.47 1.35L5.41 20z\"/>\n",
              "  </svg>\n",
              "      </button>\n",
              "      \n",
              "  <style>\n",
              "    .colab-df-container {\n",
              "      display:flex;\n",
              "      flex-wrap:wrap;\n",
              "      gap: 12px;\n",
              "    }\n",
              "\n",
              "    .colab-df-convert {\n",
              "      background-color: #E8F0FE;\n",
              "      border: none;\n",
              "      border-radius: 50%;\n",
              "      cursor: pointer;\n",
              "      display: none;\n",
              "      fill: #1967D2;\n",
              "      height: 32px;\n",
              "      padding: 0 0 0 0;\n",
              "      width: 32px;\n",
              "    }\n",
              "\n",
              "    .colab-df-convert:hover {\n",
              "      background-color: #E2EBFA;\n",
              "      box-shadow: 0px 1px 2px rgba(60, 64, 67, 0.3), 0px 1px 3px 1px rgba(60, 64, 67, 0.15);\n",
              "      fill: #174EA6;\n",
              "    }\n",
              "\n",
              "    [theme=dark] .colab-df-convert {\n",
              "      background-color: #3B4455;\n",
              "      fill: #D2E3FC;\n",
              "    }\n",
              "\n",
              "    [theme=dark] .colab-df-convert:hover {\n",
              "      background-color: #434B5C;\n",
              "      box-shadow: 0px 1px 3px 1px rgba(0, 0, 0, 0.15);\n",
              "      filter: drop-shadow(0px 1px 2px rgba(0, 0, 0, 0.3));\n",
              "      fill: #FFFFFF;\n",
              "    }\n",
              "  </style>\n",
              "\n",
              "      <script>\n",
              "        const buttonEl =\n",
              "          document.querySelector('#df-e47e01d6-edce-45f5-b76b-25eb26570a69 button.colab-df-convert');\n",
              "        buttonEl.style.display =\n",
              "          google.colab.kernel.accessAllowed ? 'block' : 'none';\n",
              "\n",
              "        async function convertToInteractive(key) {\n",
              "          const element = document.querySelector('#df-e47e01d6-edce-45f5-b76b-25eb26570a69');\n",
              "          const dataTable =\n",
              "            await google.colab.kernel.invokeFunction('convertToInteractive',\n",
              "                                                     [key], {});\n",
              "          if (!dataTable) return;\n",
              "\n",
              "          const docLinkHtml = 'Like what you see? Visit the ' +\n",
              "            '<a target=\"_blank\" href=https://colab.research.google.com/notebooks/data_table.ipynb>data table notebook</a>'\n",
              "            + ' to learn more about interactive tables.';\n",
              "          element.innerHTML = '';\n",
              "          dataTable['output_type'] = 'display_data';\n",
              "          await google.colab.output.renderOutput(dataTable, element);\n",
              "          const docLink = document.createElement('div');\n",
              "          docLink.innerHTML = docLinkHtml;\n",
              "          element.appendChild(docLink);\n",
              "        }\n",
              "      </script>\n",
              "    </div>\n",
              "  </div>\n",
              "  "
            ]
          },
          "metadata": {},
          "execution_count": 13
        }
      ]
    },
    {
      "cell_type": "markdown",
      "source": [
        "-- Insight --\n",
        "\n",
        "---\n",
        "\n",
        "Variable total_price ditambahkan pada data untuk melihat total uang yang harus dikeluarkan oleh user dalam membeli produk. Untuk mendapatkan variable total_price dilakukan perhitungan dengan mengkalikan variable sale_price dan num_of_item\n"
      ],
      "metadata": {
        "id": "Td41LMbtTRQM"
      }
    },
    {
      "cell_type": "markdown",
      "source": [
        "## Data Preparation"
      ],
      "metadata": {
        "id": "Pokq-KELOaNK"
      }
    },
    {
      "cell_type": "code",
      "source": [
        "data1.info()"
      ],
      "metadata": {
        "id": "Yfu1tsoffEdw",
        "colab": {
          "base_uri": "https://localhost:8080/"
        },
        "outputId": "e096c9a3-7a2c-4202-9266-0ba5420197e7"
      },
      "execution_count": null,
      "outputs": [
        {
          "output_type": "stream",
          "name": "stdout",
          "text": [
            "<class 'pandas.core.frame.DataFrame'>\n",
            "RangeIndex: 24413 entries, 0 to 24412\n",
            "Data columns (total 7 columns):\n",
            " #   Column            Non-Null Count  Dtype  \n",
            "---  ------            --------------  -----  \n",
            " 0   product_name      24413 non-null  object \n",
            " 1   product_category  24413 non-null  object \n",
            " 2   product_brand     24413 non-null  object \n",
            " 3   sale_price        24413 non-null  float64\n",
            " 4   num_of_item       24413 non-null  int64  \n",
            " 5   gender            24413 non-null  object \n",
            " 6   total_price       24413 non-null  float64\n",
            "dtypes: float64(2), int64(1), object(4)\n",
            "memory usage: 1.3+ MB\n"
          ]
        }
      ]
    },
    {
      "cell_type": "code",
      "source": [
        "data1.isna().sum()"
      ],
      "metadata": {
        "colab": {
          "base_uri": "https://localhost:8080/"
        },
        "id": "WML4_ZOFOIUN",
        "outputId": "0993c432-5034-47e0-a5c0-cd0974fc71b4"
      },
      "execution_count": null,
      "outputs": [
        {
          "output_type": "execute_result",
          "data": {
            "text/plain": [
              "product_name        0\n",
              "product_category    0\n",
              "product_brand       0\n",
              "sale_price          0\n",
              "num_of_item         0\n",
              "gender              0\n",
              "total_price         0\n",
              "dtype: int64"
            ]
          },
          "metadata": {},
          "execution_count": 17
        }
      ]
    },
    {
      "cell_type": "code",
      "source": [
        "# Mengubah isi kolom gender menjadi bentuk numerik\n",
        "# Mengubah Male menjadi 1 dan Female menjadi 0\n",
        "\n",
        "data1.gender.replace(to_replace=dict(M=1, F=0), inplace=True)"
      ],
      "metadata": {
        "id": "dRZkKx4PJnwN"
      },
      "execution_count": null,
      "outputs": []
    },
    {
      "cell_type": "code",
      "source": [
        "data1[['gender']].head()"
      ],
      "metadata": {
        "colab": {
          "base_uri": "https://localhost:8080/",
          "height": 206
        },
        "id": "iN3j6k0QJ7le",
        "outputId": "5709399d-5f6e-451e-f5be-382865dcd469"
      },
      "execution_count": null,
      "outputs": [
        {
          "output_type": "execute_result",
          "data": {
            "text/plain": [
              "   gender\n",
              "0       1\n",
              "1       0\n",
              "2       0\n",
              "3       0\n",
              "4       1"
            ],
            "text/html": [
              "\n",
              "  <div id=\"df-1ed2c094-fe5a-4fdf-977b-5abe54597040\">\n",
              "    <div class=\"colab-df-container\">\n",
              "      <div>\n",
              "<style scoped>\n",
              "    .dataframe tbody tr th:only-of-type {\n",
              "        vertical-align: middle;\n",
              "    }\n",
              "\n",
              "    .dataframe tbody tr th {\n",
              "        vertical-align: top;\n",
              "    }\n",
              "\n",
              "    .dataframe thead th {\n",
              "        text-align: right;\n",
              "    }\n",
              "</style>\n",
              "<table border=\"1\" class=\"dataframe\">\n",
              "  <thead>\n",
              "    <tr style=\"text-align: right;\">\n",
              "      <th></th>\n",
              "      <th>gender</th>\n",
              "    </tr>\n",
              "  </thead>\n",
              "  <tbody>\n",
              "    <tr>\n",
              "      <th>0</th>\n",
              "      <td>1</td>\n",
              "    </tr>\n",
              "    <tr>\n",
              "      <th>1</th>\n",
              "      <td>0</td>\n",
              "    </tr>\n",
              "    <tr>\n",
              "      <th>2</th>\n",
              "      <td>0</td>\n",
              "    </tr>\n",
              "    <tr>\n",
              "      <th>3</th>\n",
              "      <td>0</td>\n",
              "    </tr>\n",
              "    <tr>\n",
              "      <th>4</th>\n",
              "      <td>1</td>\n",
              "    </tr>\n",
              "  </tbody>\n",
              "</table>\n",
              "</div>\n",
              "      <button class=\"colab-df-convert\" onclick=\"convertToInteractive('df-1ed2c094-fe5a-4fdf-977b-5abe54597040')\"\n",
              "              title=\"Convert this dataframe to an interactive table.\"\n",
              "              style=\"display:none;\">\n",
              "        \n",
              "  <svg xmlns=\"http://www.w3.org/2000/svg\" height=\"24px\"viewBox=\"0 0 24 24\"\n",
              "       width=\"24px\">\n",
              "    <path d=\"M0 0h24v24H0V0z\" fill=\"none\"/>\n",
              "    <path d=\"M18.56 5.44l.94 2.06.94-2.06 2.06-.94-2.06-.94-.94-2.06-.94 2.06-2.06.94zm-11 1L8.5 8.5l.94-2.06 2.06-.94-2.06-.94L8.5 2.5l-.94 2.06-2.06.94zm10 10l.94 2.06.94-2.06 2.06-.94-2.06-.94-.94-2.06-.94 2.06-2.06.94z\"/><path d=\"M17.41 7.96l-1.37-1.37c-.4-.4-.92-.59-1.43-.59-.52 0-1.04.2-1.43.59L10.3 9.45l-7.72 7.72c-.78.78-.78 2.05 0 2.83L4 21.41c.39.39.9.59 1.41.59.51 0 1.02-.2 1.41-.59l7.78-7.78 2.81-2.81c.8-.78.8-2.07 0-2.86zM5.41 20L4 18.59l7.72-7.72 1.47 1.35L5.41 20z\"/>\n",
              "  </svg>\n",
              "      </button>\n",
              "      \n",
              "  <style>\n",
              "    .colab-df-container {\n",
              "      display:flex;\n",
              "      flex-wrap:wrap;\n",
              "      gap: 12px;\n",
              "    }\n",
              "\n",
              "    .colab-df-convert {\n",
              "      background-color: #E8F0FE;\n",
              "      border: none;\n",
              "      border-radius: 50%;\n",
              "      cursor: pointer;\n",
              "      display: none;\n",
              "      fill: #1967D2;\n",
              "      height: 32px;\n",
              "      padding: 0 0 0 0;\n",
              "      width: 32px;\n",
              "    }\n",
              "\n",
              "    .colab-df-convert:hover {\n",
              "      background-color: #E2EBFA;\n",
              "      box-shadow: 0px 1px 2px rgba(60, 64, 67, 0.3), 0px 1px 3px 1px rgba(60, 64, 67, 0.15);\n",
              "      fill: #174EA6;\n",
              "    }\n",
              "\n",
              "    [theme=dark] .colab-df-convert {\n",
              "      background-color: #3B4455;\n",
              "      fill: #D2E3FC;\n",
              "    }\n",
              "\n",
              "    [theme=dark] .colab-df-convert:hover {\n",
              "      background-color: #434B5C;\n",
              "      box-shadow: 0px 1px 3px 1px rgba(0, 0, 0, 0.15);\n",
              "      filter: drop-shadow(0px 1px 2px rgba(0, 0, 0, 0.3));\n",
              "      fill: #FFFFFF;\n",
              "    }\n",
              "  </style>\n",
              "\n",
              "      <script>\n",
              "        const buttonEl =\n",
              "          document.querySelector('#df-1ed2c094-fe5a-4fdf-977b-5abe54597040 button.colab-df-convert');\n",
              "        buttonEl.style.display =\n",
              "          google.colab.kernel.accessAllowed ? 'block' : 'none';\n",
              "\n",
              "        async function convertToInteractive(key) {\n",
              "          const element = document.querySelector('#df-1ed2c094-fe5a-4fdf-977b-5abe54597040');\n",
              "          const dataTable =\n",
              "            await google.colab.kernel.invokeFunction('convertToInteractive',\n",
              "                                                     [key], {});\n",
              "          if (!dataTable) return;\n",
              "\n",
              "          const docLinkHtml = 'Like what you see? Visit the ' +\n",
              "            '<a target=\"_blank\" href=https://colab.research.google.com/notebooks/data_table.ipynb>data table notebook</a>'\n",
              "            + ' to learn more about interactive tables.';\n",
              "          element.innerHTML = '';\n",
              "          dataTable['output_type'] = 'display_data';\n",
              "          await google.colab.output.renderOutput(dataTable, element);\n",
              "          const docLink = document.createElement('div');\n",
              "          docLink.innerHTML = docLinkHtml;\n",
              "          element.appendChild(docLink);\n",
              "        }\n",
              "      </script>\n",
              "    </div>\n",
              "  </div>\n",
              "  "
            ]
          },
          "metadata": {},
          "execution_count": 19
        }
      ]
    },
    {
      "cell_type": "code",
      "source": [
        "# Mencari jumlah unik value untuk setiap variable yang ada\n",
        "\n",
        "for feature in data1.columns:\n",
        "    print(\n",
        "        f\"- num of unique values in `{feature}`:\",\n",
        "        data1[feature].nunique()\n",
        "    )"
      ],
      "metadata": {
        "colab": {
          "base_uri": "https://localhost:8080/"
        },
        "id": "2KiHU8NJO7SA",
        "outputId": "1400b85f-4133-42c5-ba4f-7421e165f077"
      },
      "execution_count": null,
      "outputs": [
        {
          "output_type": "stream",
          "name": "stdout",
          "text": [
            "- num of unique values in `product_name`: 14837\n",
            "- num of unique values in `product_category`: 26\n",
            "- num of unique values in `product_brand`: 2191\n",
            "- num of unique values in `sale_price`: 2948\n",
            "- num of unique values in `num_of_item`: 4\n",
            "- num of unique values in `gender`: 2\n",
            "- num of unique values in `total_price`: 5632\n"
          ]
        }
      ]
    },
    {
      "cell_type": "code",
      "source": [
        "# Mengelompokkan data numerik dan kategorikal\n",
        "\n",
        "numerical_features = data1.select_dtypes(include=\"number\").columns.tolist() \n",
        "categorical_features = data1.select_dtypes(include=\"object\").columns.tolist() \n",
        "\n",
        "print(\"Numerical features:\")\n",
        "pprint(numerical_features)\n",
        "\n",
        "print(\"Categorical features:\")\n",
        "pprint(categorical_features, compact=True) "
      ],
      "metadata": {
        "colab": {
          "base_uri": "https://localhost:8080/"
        },
        "id": "AeCPqmAhLHJk",
        "outputId": "2286cd24-b10f-4e7f-932a-bdc145435853"
      },
      "execution_count": null,
      "outputs": [
        {
          "output_type": "stream",
          "name": "stdout",
          "text": [
            "Numerical features:\n",
            "['sale_price', 'num_of_item', 'gender', 'total_price']\n",
            "Categorical features:\n",
            "['product_name', 'product_category', 'product_brand']\n"
          ]
        }
      ]
    },
    {
      "cell_type": "code",
      "source": [
        "# Menampilkan summ statistics untuk data kategorikal\n",
        "\n",
        "data1[categorical_features].describe().T"
      ],
      "metadata": {
        "colab": {
          "base_uri": "https://localhost:8080/",
          "height": 143
        },
        "id": "ZobannWPL-ZO",
        "outputId": "3ee96874-f5a4-4d63-9e01-080ba575f914"
      },
      "execution_count": null,
      "outputs": [
        {
          "output_type": "execute_result",
          "data": {
            "text/plain": [
              "                  count unique  \\\n",
              "product_name      24413  14837   \n",
              "product_category  24413     26   \n",
              "product_brand     24413   2191   \n",
              "\n",
              "                                                                top  freq  \n",
              "product_name      7 For All Mankind Men's Standard Classic Strai...     8  \n",
              "product_category                                          Intimates  1815  \n",
              "product_brand                                             Allegra K   864  "
            ],
            "text/html": [
              "\n",
              "  <div id=\"df-556d6d6e-7728-4daf-8426-07ab769d6db4\">\n",
              "    <div class=\"colab-df-container\">\n",
              "      <div>\n",
              "<style scoped>\n",
              "    .dataframe tbody tr th:only-of-type {\n",
              "        vertical-align: middle;\n",
              "    }\n",
              "\n",
              "    .dataframe tbody tr th {\n",
              "        vertical-align: top;\n",
              "    }\n",
              "\n",
              "    .dataframe thead th {\n",
              "        text-align: right;\n",
              "    }\n",
              "</style>\n",
              "<table border=\"1\" class=\"dataframe\">\n",
              "  <thead>\n",
              "    <tr style=\"text-align: right;\">\n",
              "      <th></th>\n",
              "      <th>count</th>\n",
              "      <th>unique</th>\n",
              "      <th>top</th>\n",
              "      <th>freq</th>\n",
              "    </tr>\n",
              "  </thead>\n",
              "  <tbody>\n",
              "    <tr>\n",
              "      <th>product_name</th>\n",
              "      <td>24413</td>\n",
              "      <td>14837</td>\n",
              "      <td>7 For All Mankind Men's Standard Classic Strai...</td>\n",
              "      <td>8</td>\n",
              "    </tr>\n",
              "    <tr>\n",
              "      <th>product_category</th>\n",
              "      <td>24413</td>\n",
              "      <td>26</td>\n",
              "      <td>Intimates</td>\n",
              "      <td>1815</td>\n",
              "    </tr>\n",
              "    <tr>\n",
              "      <th>product_brand</th>\n",
              "      <td>24413</td>\n",
              "      <td>2191</td>\n",
              "      <td>Allegra K</td>\n",
              "      <td>864</td>\n",
              "    </tr>\n",
              "  </tbody>\n",
              "</table>\n",
              "</div>\n",
              "      <button class=\"colab-df-convert\" onclick=\"convertToInteractive('df-556d6d6e-7728-4daf-8426-07ab769d6db4')\"\n",
              "              title=\"Convert this dataframe to an interactive table.\"\n",
              "              style=\"display:none;\">\n",
              "        \n",
              "  <svg xmlns=\"http://www.w3.org/2000/svg\" height=\"24px\"viewBox=\"0 0 24 24\"\n",
              "       width=\"24px\">\n",
              "    <path d=\"M0 0h24v24H0V0z\" fill=\"none\"/>\n",
              "    <path d=\"M18.56 5.44l.94 2.06.94-2.06 2.06-.94-2.06-.94-.94-2.06-.94 2.06-2.06.94zm-11 1L8.5 8.5l.94-2.06 2.06-.94-2.06-.94L8.5 2.5l-.94 2.06-2.06.94zm10 10l.94 2.06.94-2.06 2.06-.94-2.06-.94-.94-2.06-.94 2.06-2.06.94z\"/><path d=\"M17.41 7.96l-1.37-1.37c-.4-.4-.92-.59-1.43-.59-.52 0-1.04.2-1.43.59L10.3 9.45l-7.72 7.72c-.78.78-.78 2.05 0 2.83L4 21.41c.39.39.9.59 1.41.59.51 0 1.02-.2 1.41-.59l7.78-7.78 2.81-2.81c.8-.78.8-2.07 0-2.86zM5.41 20L4 18.59l7.72-7.72 1.47 1.35L5.41 20z\"/>\n",
              "  </svg>\n",
              "      </button>\n",
              "      \n",
              "  <style>\n",
              "    .colab-df-container {\n",
              "      display:flex;\n",
              "      flex-wrap:wrap;\n",
              "      gap: 12px;\n",
              "    }\n",
              "\n",
              "    .colab-df-convert {\n",
              "      background-color: #E8F0FE;\n",
              "      border: none;\n",
              "      border-radius: 50%;\n",
              "      cursor: pointer;\n",
              "      display: none;\n",
              "      fill: #1967D2;\n",
              "      height: 32px;\n",
              "      padding: 0 0 0 0;\n",
              "      width: 32px;\n",
              "    }\n",
              "\n",
              "    .colab-df-convert:hover {\n",
              "      background-color: #E2EBFA;\n",
              "      box-shadow: 0px 1px 2px rgba(60, 64, 67, 0.3), 0px 1px 3px 1px rgba(60, 64, 67, 0.15);\n",
              "      fill: #174EA6;\n",
              "    }\n",
              "\n",
              "    [theme=dark] .colab-df-convert {\n",
              "      background-color: #3B4455;\n",
              "      fill: #D2E3FC;\n",
              "    }\n",
              "\n",
              "    [theme=dark] .colab-df-convert:hover {\n",
              "      background-color: #434B5C;\n",
              "      box-shadow: 0px 1px 3px 1px rgba(0, 0, 0, 0.15);\n",
              "      filter: drop-shadow(0px 1px 2px rgba(0, 0, 0, 0.3));\n",
              "      fill: #FFFFFF;\n",
              "    }\n",
              "  </style>\n",
              "\n",
              "      <script>\n",
              "        const buttonEl =\n",
              "          document.querySelector('#df-556d6d6e-7728-4daf-8426-07ab769d6db4 button.colab-df-convert');\n",
              "        buttonEl.style.display =\n",
              "          google.colab.kernel.accessAllowed ? 'block' : 'none';\n",
              "\n",
              "        async function convertToInteractive(key) {\n",
              "          const element = document.querySelector('#df-556d6d6e-7728-4daf-8426-07ab769d6db4');\n",
              "          const dataTable =\n",
              "            await google.colab.kernel.invokeFunction('convertToInteractive',\n",
              "                                                     [key], {});\n",
              "          if (!dataTable) return;\n",
              "\n",
              "          const docLinkHtml = 'Like what you see? Visit the ' +\n",
              "            '<a target=\"_blank\" href=https://colab.research.google.com/notebooks/data_table.ipynb>data table notebook</a>'\n",
              "            + ' to learn more about interactive tables.';\n",
              "          element.innerHTML = '';\n",
              "          dataTable['output_type'] = 'display_data';\n",
              "          await google.colab.output.renderOutput(dataTable, element);\n",
              "          const docLink = document.createElement('div');\n",
              "          docLink.innerHTML = docLinkHtml;\n",
              "          element.appendChild(docLink);\n",
              "        }\n",
              "      </script>\n",
              "    </div>\n",
              "  </div>\n",
              "  "
            ]
          },
          "metadata": {},
          "execution_count": 22
        }
      ]
    },
    {
      "cell_type": "code",
      "source": [
        "# Menampilkan summ statistics untuk data numerikal\n",
        "\n",
        "data1[numerical_features].describe().T"
      ],
      "metadata": {
        "colab": {
          "base_uri": "https://localhost:8080/",
          "height": 175
        },
        "id": "vJyAaLhXMBWe",
        "outputId": "a27c8a90-e1c3-428f-96d8-340969258127"
      },
      "execution_count": null,
      "outputs": [
        {
          "output_type": "execute_result",
          "data": {
            "text/plain": [
              "               count        mean         std   min   25%        50%  \\\n",
              "sale_price   24413.0   59.766208   65.253596  0.02  24.5  39.990002   \n",
              "num_of_item  24413.0    2.013845    1.087619  1.00   1.0   2.000000   \n",
              "gender       24413.0    0.511613    0.499875  0.00   0.0   1.000000   \n",
              "total_price  24413.0  120.191009  160.861525  0.02  36.0  69.949997   \n",
              "\n",
              "                    75%     max  \n",
              "sale_price    69.949997   999.0  \n",
              "num_of_item    3.000000     4.0  \n",
              "gender         1.000000     1.0  \n",
              "total_price  140.000000  3612.0  "
            ],
            "text/html": [
              "\n",
              "  <div id=\"df-8d943553-d885-41f0-8bb9-22e3fa464b72\">\n",
              "    <div class=\"colab-df-container\">\n",
              "      <div>\n",
              "<style scoped>\n",
              "    .dataframe tbody tr th:only-of-type {\n",
              "        vertical-align: middle;\n",
              "    }\n",
              "\n",
              "    .dataframe tbody tr th {\n",
              "        vertical-align: top;\n",
              "    }\n",
              "\n",
              "    .dataframe thead th {\n",
              "        text-align: right;\n",
              "    }\n",
              "</style>\n",
              "<table border=\"1\" class=\"dataframe\">\n",
              "  <thead>\n",
              "    <tr style=\"text-align: right;\">\n",
              "      <th></th>\n",
              "      <th>count</th>\n",
              "      <th>mean</th>\n",
              "      <th>std</th>\n",
              "      <th>min</th>\n",
              "      <th>25%</th>\n",
              "      <th>50%</th>\n",
              "      <th>75%</th>\n",
              "      <th>max</th>\n",
              "    </tr>\n",
              "  </thead>\n",
              "  <tbody>\n",
              "    <tr>\n",
              "      <th>sale_price</th>\n",
              "      <td>24413.0</td>\n",
              "      <td>59.766208</td>\n",
              "      <td>65.253596</td>\n",
              "      <td>0.02</td>\n",
              "      <td>24.5</td>\n",
              "      <td>39.990002</td>\n",
              "      <td>69.949997</td>\n",
              "      <td>999.0</td>\n",
              "    </tr>\n",
              "    <tr>\n",
              "      <th>num_of_item</th>\n",
              "      <td>24413.0</td>\n",
              "      <td>2.013845</td>\n",
              "      <td>1.087619</td>\n",
              "      <td>1.00</td>\n",
              "      <td>1.0</td>\n",
              "      <td>2.000000</td>\n",
              "      <td>3.000000</td>\n",
              "      <td>4.0</td>\n",
              "    </tr>\n",
              "    <tr>\n",
              "      <th>gender</th>\n",
              "      <td>24413.0</td>\n",
              "      <td>0.511613</td>\n",
              "      <td>0.499875</td>\n",
              "      <td>0.00</td>\n",
              "      <td>0.0</td>\n",
              "      <td>1.000000</td>\n",
              "      <td>1.000000</td>\n",
              "      <td>1.0</td>\n",
              "    </tr>\n",
              "    <tr>\n",
              "      <th>total_price</th>\n",
              "      <td>24413.0</td>\n",
              "      <td>120.191009</td>\n",
              "      <td>160.861525</td>\n",
              "      <td>0.02</td>\n",
              "      <td>36.0</td>\n",
              "      <td>69.949997</td>\n",
              "      <td>140.000000</td>\n",
              "      <td>3612.0</td>\n",
              "    </tr>\n",
              "  </tbody>\n",
              "</table>\n",
              "</div>\n",
              "      <button class=\"colab-df-convert\" onclick=\"convertToInteractive('df-8d943553-d885-41f0-8bb9-22e3fa464b72')\"\n",
              "              title=\"Convert this dataframe to an interactive table.\"\n",
              "              style=\"display:none;\">\n",
              "        \n",
              "  <svg xmlns=\"http://www.w3.org/2000/svg\" height=\"24px\"viewBox=\"0 0 24 24\"\n",
              "       width=\"24px\">\n",
              "    <path d=\"M0 0h24v24H0V0z\" fill=\"none\"/>\n",
              "    <path d=\"M18.56 5.44l.94 2.06.94-2.06 2.06-.94-2.06-.94-.94-2.06-.94 2.06-2.06.94zm-11 1L8.5 8.5l.94-2.06 2.06-.94-2.06-.94L8.5 2.5l-.94 2.06-2.06.94zm10 10l.94 2.06.94-2.06 2.06-.94-2.06-.94-.94-2.06-.94 2.06-2.06.94z\"/><path d=\"M17.41 7.96l-1.37-1.37c-.4-.4-.92-.59-1.43-.59-.52 0-1.04.2-1.43.59L10.3 9.45l-7.72 7.72c-.78.78-.78 2.05 0 2.83L4 21.41c.39.39.9.59 1.41.59.51 0 1.02-.2 1.41-.59l7.78-7.78 2.81-2.81c.8-.78.8-2.07 0-2.86zM5.41 20L4 18.59l7.72-7.72 1.47 1.35L5.41 20z\"/>\n",
              "  </svg>\n",
              "      </button>\n",
              "      \n",
              "  <style>\n",
              "    .colab-df-container {\n",
              "      display:flex;\n",
              "      flex-wrap:wrap;\n",
              "      gap: 12px;\n",
              "    }\n",
              "\n",
              "    .colab-df-convert {\n",
              "      background-color: #E8F0FE;\n",
              "      border: none;\n",
              "      border-radius: 50%;\n",
              "      cursor: pointer;\n",
              "      display: none;\n",
              "      fill: #1967D2;\n",
              "      height: 32px;\n",
              "      padding: 0 0 0 0;\n",
              "      width: 32px;\n",
              "    }\n",
              "\n",
              "    .colab-df-convert:hover {\n",
              "      background-color: #E2EBFA;\n",
              "      box-shadow: 0px 1px 2px rgba(60, 64, 67, 0.3), 0px 1px 3px 1px rgba(60, 64, 67, 0.15);\n",
              "      fill: #174EA6;\n",
              "    }\n",
              "\n",
              "    [theme=dark] .colab-df-convert {\n",
              "      background-color: #3B4455;\n",
              "      fill: #D2E3FC;\n",
              "    }\n",
              "\n",
              "    [theme=dark] .colab-df-convert:hover {\n",
              "      background-color: #434B5C;\n",
              "      box-shadow: 0px 1px 3px 1px rgba(0, 0, 0, 0.15);\n",
              "      filter: drop-shadow(0px 1px 2px rgba(0, 0, 0, 0.3));\n",
              "      fill: #FFFFFF;\n",
              "    }\n",
              "  </style>\n",
              "\n",
              "      <script>\n",
              "        const buttonEl =\n",
              "          document.querySelector('#df-8d943553-d885-41f0-8bb9-22e3fa464b72 button.colab-df-convert');\n",
              "        buttonEl.style.display =\n",
              "          google.colab.kernel.accessAllowed ? 'block' : 'none';\n",
              "\n",
              "        async function convertToInteractive(key) {\n",
              "          const element = document.querySelector('#df-8d943553-d885-41f0-8bb9-22e3fa464b72');\n",
              "          const dataTable =\n",
              "            await google.colab.kernel.invokeFunction('convertToInteractive',\n",
              "                                                     [key], {});\n",
              "          if (!dataTable) return;\n",
              "\n",
              "          const docLinkHtml = 'Like what you see? Visit the ' +\n",
              "            '<a target=\"_blank\" href=https://colab.research.google.com/notebooks/data_table.ipynb>data table notebook</a>'\n",
              "            + ' to learn more about interactive tables.';\n",
              "          element.innerHTML = '';\n",
              "          dataTable['output_type'] = 'display_data';\n",
              "          await google.colab.output.renderOutput(dataTable, element);\n",
              "          const docLink = document.createElement('div');\n",
              "          docLink.innerHTML = docLinkHtml;\n",
              "          element.appendChild(docLink);\n",
              "        }\n",
              "      </script>\n",
              "    </div>\n",
              "  </div>\n",
              "  "
            ]
          },
          "metadata": {},
          "execution_count": 23
        }
      ]
    },
    {
      "cell_type": "markdown",
      "source": [
        "Handling outlier"
      ],
      "metadata": {
        "id": "Ve2YYXsYMgAe"
      }
    },
    {
      "cell_type": "code",
      "source": [
        "# Melihat outlier pada dataset\n",
        "\n",
        "plt.figure(figsize=(10,5))\n",
        "sns.boxplot(data = data1)"
      ],
      "metadata": {
        "colab": {
          "base_uri": "https://localhost:8080/",
          "height": 339
        },
        "id": "nXI2UUgIS0LF",
        "outputId": "526d75c6-ac51-4b3a-dfcb-5e49cd31654d"
      },
      "execution_count": null,
      "outputs": [
        {
          "output_type": "execute_result",
          "data": {
            "text/plain": [
              "<matplotlib.axes._subplots.AxesSubplot at 0x7f7746321550>"
            ]
          },
          "metadata": {},
          "execution_count": 24
        },
        {
          "output_type": "display_data",
          "data": {
            "text/plain": [
              "<Figure size 720x360 with 1 Axes>"
            ],
            "image/png": "[encoded data removed]"
          },
          "metadata": {
            "needs_background": "light"
          }
        }
      ]
    },
    {
      "cell_type": "markdown",
      "source": [
        "-- Insight --\n",
        "\n",
        "---\n",
        "\n",
        "Dapat dilihat bahwa terdapat ouiler oada data sale_price dan total_price, sehingga perlu dilakukan handling outlier untuk meminimalisir data yang memiliki nilai outlier\n"
      ],
      "metadata": {
        "id": "o7DdCFDoVR_U"
      }
    },
    {
      "cell_type": "code",
      "source": [
        "# Melihat outlier pada sale_price dan total_price\n",
        "\n",
        "data[['sale_price','total_price']].plot(kind=\"box\", figsize=(12, 9))\n",
        "plt.grid(True)\n",
        "plt.show()"
      ],
      "metadata": {
        "colab": {
          "base_uri": "https://localhost:8080/",
          "height": 538
        },
        "id": "lep75oL1WmUC",
        "outputId": "86c93649-369e-4ece-fdd9-7e6b2c62d63c"
      },
      "execution_count": null,
      "outputs": [
        {
          "output_type": "display_data",
          "data": {
            "text/plain": [
              "<Figure size 864x648 with 1 Axes>"
            ],
            "image/png": "[encoded data removed]"
          },
          "metadata": {
            "needs_background": "light"
          }
        }
      ]
    },
    {
      "cell_type": "code",
      "source": [
        "#Membuat Boxplot pada sale_price untuk melihat outlier lebih jelas\n",
        "\n",
        "plt.title(\"sale_price\")\n",
        "print(sns.boxplot(data=data['sale_price']))"
      ],
      "metadata": {
        "colab": {
          "base_uri": "https://localhost:8080/",
          "height": 299
        },
        "id": "_oE0dtrhgZY7",
        "outputId": "11db38fb-fb54-4155-d163-7c81d3cf8939"
      },
      "execution_count": null,
      "outputs": [
        {
          "output_type": "stream",
          "name": "stdout",
          "text": [
            "AxesSubplot(0.125,0.125;0.775x0.755)\n"
          ]
        },
        {
          "output_type": "display_data",
          "data": {
            "text/plain": [
              "<Figure size 432x288 with 1 Axes>"
            ],
            "image/png": "[encoded data removed]"
          },
          "metadata": {
            "needs_background": "light"
          }
        }
      ]
    },
    {
      "cell_type": "code",
      "source": [
        "# Membuat Boxplot pada total_price untuk melihat outlier lebih jelas\n",
        "\n",
        "plt.title(\"total_price\")\n",
        "print(sns.boxplot(data=data['total_price']))"
      ],
      "metadata": {
        "colab": {
          "base_uri": "https://localhost:8080/",
          "height": 299
        },
        "id": "6vAIDRQ3gd-t",
        "outputId": "545b258c-b5cc-42f5-bcc6-5b0359492ca8"
      },
      "execution_count": null,
      "outputs": [
        {
          "output_type": "stream",
          "name": "stdout",
          "text": [
            "AxesSubplot(0.125,0.125;0.775x0.755)\n"
          ]
        },
        {
          "output_type": "display_data",
          "data": {
            "text/plain": [
              "<Figure size 432x288 with 1 Axes>"
            ],
            "image/png": "[encoded data removed]"
          },
          "metadata": {
            "needs_background": "light"
          }
        }
      ]
    },
    {
      "cell_type": "code",
      "source": [
        "#Handling outiler menggunakan metode IQR untuk data sale_price\n",
        "\n",
        "sale_price_fix = data[['sale_price']]\n",
        "\n",
        "Q1 = sale_price_fix.quantile(q=.25)\n",
        "Q3 = sale_price_fix.quantile(q=.75)\n",
        "IQR = sale_price_fix.apply(stats.iqr)\n",
        "\n",
        "data_iqr_sale = sale_price_fix[~((sale_price_fix < (Q1-1.5*IQR)) | (sale_price_fix > (Q3+1.5*IQR))).any(axis=1)]"
      ],
      "metadata": {
        "id": "AojuAOC4gteZ"
      },
      "execution_count": null,
      "outputs": []
    },
    {
      "cell_type": "code",
      "source": [
        "data_iqr_sale.plot(kind='box', figsize=(5,5))\n",
        "plt.show()"
      ],
      "metadata": {
        "colab": {
          "base_uri": "https://localhost:8080/",
          "height": 321
        },
        "id": "35mNuaqhhCQD",
        "outputId": "88469a06-b8ea-4646-e040-6b2df87db765"
      },
      "execution_count": null,
      "outputs": [
        {
          "output_type": "display_data",
          "data": {
            "text/plain": [
              "<Figure size 360x360 with 1 Axes>"
            ],
            "image/png": "[encoded data removed]"
          },
          "metadata": {
            "needs_background": "light"
          }
        }
      ]
    },
    {
      "cell_type": "code",
      "source": [
        "#Handling outiler menggunakan metode IQR untuk data total_price\n",
        "\n",
        "num_of_item_fix = data[['total_price']]\n",
        "\n",
        "Q1 = num_of_item_fix.quantile(q=.25)\n",
        "Q3 = num_of_item_fix.quantile(q=.75)\n",
        "IQR = num_of_item_fix.apply(stats.iqr)\n",
        "\n",
        "data_iqr_item = num_of_item_fix[~((num_of_item_fix < (Q1-1.5*IQR)) | (num_of_item_fix > (Q3+1.5*IQR))).any(axis=1)]"
      ],
      "metadata": {
        "id": "3H3CW4IVjV6a"
      },
      "execution_count": null,
      "outputs": []
    },
    {
      "cell_type": "code",
      "source": [
        "data_iqr_item.plot(kind='box', figsize=(5,5))\n",
        "plt.show()"
      ],
      "metadata": {
        "colab": {
          "base_uri": "https://localhost:8080/",
          "height": 321
        },
        "id": "Waf5Pt2ejppe",
        "outputId": "dfb8b728-0f06-47b2-f3aa-e938205c52e8"
      },
      "execution_count": null,
      "outputs": [
        {
          "output_type": "display_data",
          "data": {
            "text/plain": [
              "<Figure size 360x360 with 1 Axes>"
            ],
            "image/png": "[encoded data removed]"
          },
          "metadata": {
            "needs_background": "light"
          }
        }
      ]
    },
    {
      "cell_type": "markdown",
      "source": [
        "-- Insight --\n",
        "\n",
        "\n",
        "---\n",
        "\n",
        "Untuk melakukan proses handling outlier variable sale_price dan total_price dilakukan metode IQR, dapat dilihat bahwa sudah tidak terlalu banyak nilai outlier pada data"
      ],
      "metadata": {
        "id": "8iEohLfqWIMs"
      }
    },
    {
      "cell_type": "code",
      "source": [
        "def plot_count(data, x=None, y=None, palette=None, figsize=(15, 6), **kwargs):\n",
        "    column_order = data[x or y].value_counts().index\n",
        "\n",
        "    plt.figure(figsize=figsize)\n",
        "    sns.countplot(\n",
        "        x=x, y=y, data=data, order=column_order,\n",
        "        palette=palette, **kwargs\n",
        "    )\n",
        "    plt.grid(False)\n",
        "\n",
        "\n",
        "MAIN_COLOR = [\"#29B5BF\"]    # warna utama untuk visualisasi\n",
        "OTHER_COLOR = [\"#777777\"]    # warna lainnya untuk visualisasi"
      ],
      "metadata": {
        "id": "BhCnA5PAXr_r"
      },
      "execution_count": null,
      "outputs": []
    },
    {
      "cell_type": "code",
      "source": [
        "#visualisasi dengan gender\n",
        "\n",
        "plot_count(x=\"gender\", data=data)"
      ],
      "metadata": {
        "colab": {
          "base_uri": "https://localhost:8080/",
          "height": 388
        },
        "id": "3xlEafX1Xog0",
        "outputId": "7e169e42-4715-4ac8-cecf-b31acc08f59f"
      },
      "execution_count": null,
      "outputs": [
        {
          "output_type": "display_data",
          "data": {
            "text/plain": [
              "<Figure size 576x432 with 1 Axes>"
            ],
            "image/png": "[encoded data removed]"
          },
          "metadata": {
            "needs_background": "light"
          }
        }
      ]
    },
    {
      "cell_type": "code",
      "source": [
        "#visualisasi dengan product_category\n",
        "\n",
        "plot_count(x=\"product_category\", data=data)"
      ],
      "metadata": {
        "colab": {
          "base_uri": "https://localhost:8080/",
          "height": 389
        },
        "id": "0OagnRUxcqYr",
        "outputId": "f11e22ff-77f4-438e-dcee-6a4e59030c5e"
      },
      "execution_count": null,
      "outputs": [
        {
          "output_type": "display_data",
          "data": {
            "text/plain": [
              "<Figure size 1080x432 with 1 Axes>"
            ],
            "image/png": "[encoded data removed]"
          },
          "metadata": {
            "needs_background": "light"
          }
        }
      ]
    },
    {
      "cell_type": "code",
      "source": [
        "# Visualisasi dengan num_of_item\n",
        "\n",
        "plot_count(x=\"num_of_item\", data=data)"
      ],
      "metadata": {
        "colab": {
          "base_uri": "https://localhost:8080/",
          "height": 389
        },
        "id": "sdVonj5JdIxn",
        "outputId": "e59159e3-e4c3-4d15-820a-c660c03035e3"
      },
      "execution_count": null,
      "outputs": [
        {
          "output_type": "display_data",
          "data": {
            "text/plain": [
              "<Figure size 576x432 with 1 Axes>"
            ],
            "image/png": "[encoded data removed]"
          },
          "metadata": {
            "needs_background": "light"
          }
        }
      ]
    },
    {
      "cell_type": "markdown",
      "source": [
        "-- Insight --\n",
        "\n",
        "\n",
        "---\n",
        "Berikut penjelasan mengenai visualisasi data\n",
        "*   Visualisasi gender : Dapat dilihat bahwa kebanyakan transaksi yang dilakukan oleh male namun rentang transaksi antara femali dan male tidak terlalu jauh\n",
        "*   visualisasi produc_category : Penjualan terbanyak ada pada category itimate\n",
        "*   visualisasi num_of_item : Kebanyak customer membeli 1 barang\n",
        "\n",
        "\n"
      ],
      "metadata": {
        "id": "Pco6HBUvX6fN"
      }
    },
    {
      "cell_type": "code",
      "source": [
        "# Visualisasikan hubungan antara \n",
        "\n",
        "sns.heatmap(data[['sale_price', 'num_of_item', 'total_price']].corr(), annot=True)\n",
        "plt.show()"
      ],
      "metadata": {
        "colab": {
          "base_uri": "https://localhost:8080/",
          "height": 270
        },
        "id": "bAKIalNCn0vB",
        "outputId": "b1cf46e5-45c9-4fca-c4c4-1c6ead7c90cd"
      },
      "execution_count": null,
      "outputs": [
        {
          "output_type": "display_data",
          "data": {
            "text/plain": [
              "<Figure size 432x288 with 2 Axes>"
            ],
            "image/png": "[encoded data removed]"
          },
          "metadata": {
            "needs_background": "light"
          }
        }
      ]
    },
    {
      "cell_type": "markdown",
      "source": [
        "-- Insight --\n",
        "\n",
        "\n",
        "---\n",
        "Korelasi antara variable sale_price dan total_price sangat baik, korelasi antara sale_price dan num_of_item kurang baik, dan korelasi dan antara total_price dan num_of_item cukup baik"
      ],
      "metadata": {
        "id": "U2fBwIKmmDh-"
      }
    },
    {
      "cell_type": "code",
      "source": [
        "# Penggabungan data yang a\n",
        "\n",
        "datafix = data[['product_category','product_department','sale_price','num_of_item']]\n",
        "datafix.head()"
      ],
      "metadata": {
        "colab": {
          "base_uri": "https://localhost:8080/",
          "height": 206
        },
        "id": "37V5UyyHmBOK",
        "outputId": "c91a4b23-ffb0-465b-8751-8fd6b0aade9b"
      },
      "execution_count": null,
      "outputs": [
        {
          "output_type": "execute_result",
          "data": {
            "text/plain": [
              "  product_category  product_department  sale_price  num_of_item\n",
              "0             Swim                   1   78.000000            3\n",
              "1            Jeans                   1   34.040001            1\n",
              "2            Jeans                   1   34.040001            1\n",
              "3            Jeans                   1   34.040001            1\n",
              "4             Plus                   1   15.990000            2"
            ],
            "text/html": [
              "\n",
              "  <div id=\"df-7f6b7339-ea52-4dc1-8005-1c8ad5f2ca92\">\n",
              "    <div class=\"colab-df-container\">\n",
              "      <div>\n",
              "<style scoped>\n",
              "    .dataframe tbody tr th:only-of-type {\n",
              "        vertical-align: middle;\n",
              "    }\n",
              "\n",
              "    .dataframe tbody tr th {\n",
              "        vertical-align: top;\n",
              "    }\n",
              "\n",
              "    .dataframe thead th {\n",
              "        text-align: right;\n",
              "    }\n",
              "</style>\n",
              "<table border=\"1\" class=\"dataframe\">\n",
              "  <thead>\n",
              "    <tr style=\"text-align: right;\">\n",
              "      <th></th>\n",
              "      <th>product_category</th>\n",
              "      <th>product_department</th>\n",
              "      <th>sale_price</th>\n",
              "      <th>num_of_item</th>\n",
              "    </tr>\n",
              "  </thead>\n",
              "  <tbody>\n",
              "    <tr>\n",
              "      <th>0</th>\n",
              "      <td>Swim</td>\n",
              "      <td>1</td>\n",
              "      <td>78.000000</td>\n",
              "      <td>3</td>\n",
              "    </tr>\n",
              "    <tr>\n",
              "      <th>1</th>\n",
              "      <td>Jeans</td>\n",
              "      <td>1</td>\n",
              "      <td>34.040001</td>\n",
              "      <td>1</td>\n",
              "    </tr>\n",
              "    <tr>\n",
              "      <th>2</th>\n",
              "      <td>Jeans</td>\n",
              "      <td>1</td>\n",
              "      <td>34.040001</td>\n",
              "      <td>1</td>\n",
              "    </tr>\n",
              "    <tr>\n",
              "      <th>3</th>\n",
              "      <td>Jeans</td>\n",
              "      <td>1</td>\n",
              "      <td>34.040001</td>\n",
              "      <td>1</td>\n",
              "    </tr>\n",
              "    <tr>\n",
              "      <th>4</th>\n",
              "      <td>Plus</td>\n",
              "      <td>1</td>\n",
              "      <td>15.990000</td>\n",
              "      <td>2</td>\n",
              "    </tr>\n",
              "  </tbody>\n",
              "</table>\n",
              "</div>\n",
              "      <button class=\"colab-df-convert\" onclick=\"convertToInteractive('df-7f6b7339-ea52-4dc1-8005-1c8ad5f2ca92')\"\n",
              "              title=\"Convert this dataframe to an interactive table.\"\n",
              "              style=\"display:none;\">\n",
              "        \n",
              "  <svg xmlns=\"http://www.w3.org/2000/svg\" height=\"24px\"viewBox=\"0 0 24 24\"\n",
              "       width=\"24px\">\n",
              "    <path d=\"M0 0h24v24H0V0z\" fill=\"none\"/>\n",
              "    <path d=\"M18.56 5.44l.94 2.06.94-2.06 2.06-.94-2.06-.94-.94-2.06-.94 2.06-2.06.94zm-11 1L8.5 8.5l.94-2.06 2.06-.94-2.06-.94L8.5 2.5l-.94 2.06-2.06.94zm10 10l.94 2.06.94-2.06 2.06-.94-2.06-.94-.94-2.06-.94 2.06-2.06.94z\"/><path d=\"M17.41 7.96l-1.37-1.37c-.4-.4-.92-.59-1.43-.59-.52 0-1.04.2-1.43.59L10.3 9.45l-7.72 7.72c-.78.78-.78 2.05 0 2.83L4 21.41c.39.39.9.59 1.41.59.51 0 1.02-.2 1.41-.59l7.78-7.78 2.81-2.81c.8-.78.8-2.07 0-2.86zM5.41 20L4 18.59l7.72-7.72 1.47 1.35L5.41 20z\"/>\n",
              "  </svg>\n",
              "      </button>\n",
              "      \n",
              "  <style>\n",
              "    .colab-df-container {\n",
              "      display:flex;\n",
              "      flex-wrap:wrap;\n",
              "      gap: 12px;\n",
              "    }\n",
              "\n",
              "    .colab-df-convert {\n",
              "      background-color: #E8F0FE;\n",
              "      border: none;\n",
              "      border-radius: 50%;\n",
              "      cursor: pointer;\n",
              "      display: none;\n",
              "      fill: #1967D2;\n",
              "      height: 32px;\n",
              "      padding: 0 0 0 0;\n",
              "      width: 32px;\n",
              "    }\n",
              "\n",
              "    .colab-df-convert:hover {\n",
              "      background-color: #E2EBFA;\n",
              "      box-shadow: 0px 1px 2px rgba(60, 64, 67, 0.3), 0px 1px 3px 1px rgba(60, 64, 67, 0.15);\n",
              "      fill: #174EA6;\n",
              "    }\n",
              "\n",
              "    [theme=dark] .colab-df-convert {\n",
              "      background-color: #3B4455;\n",
              "      fill: #D2E3FC;\n",
              "    }\n",
              "\n",
              "    [theme=dark] .colab-df-convert:hover {\n",
              "      background-color: #434B5C;\n",
              "      box-shadow: 0px 1px 3px 1px rgba(0, 0, 0, 0.15);\n",
              "      filter: drop-shadow(0px 1px 2px rgba(0, 0, 0, 0.3));\n",
              "      fill: #FFFFFF;\n",
              "    }\n",
              "  </style>\n",
              "\n",
              "      <script>\n",
              "        const buttonEl =\n",
              "          document.querySelector('#df-7f6b7339-ea52-4dc1-8005-1c8ad5f2ca92 button.colab-df-convert');\n",
              "        buttonEl.style.display =\n",
              "          google.colab.kernel.accessAllowed ? 'block' : 'none';\n",
              "\n",
              "        async function convertToInteractive(key) {\n",
              "          const element = document.querySelector('#df-7f6b7339-ea52-4dc1-8005-1c8ad5f2ca92');\n",
              "          const dataTable =\n",
              "            await google.colab.kernel.invokeFunction('convertToInteractive',\n",
              "                                                     [key], {});\n",
              "          if (!dataTable) return;\n",
              "\n",
              "          const docLinkHtml = 'Like what you see? Visit the ' +\n",
              "            '<a target=\"_blank\" href=https://colab.research.google.com/notebooks/data_table.ipynb>data table notebook</a>'\n",
              "            + ' to learn more about interactive tables.';\n",
              "          element.innerHTML = '';\n",
              "          dataTable['output_type'] = 'display_data';\n",
              "          await google.colab.output.renderOutput(dataTable, element);\n",
              "          const docLink = document.createElement('div');\n",
              "          docLink.innerHTML = docLinkHtml;\n",
              "          element.appendChild(docLink);\n",
              "        }\n",
              "      </script>\n",
              "    </div>\n",
              "  </div>\n",
              "  "
            ]
          },
          "metadata": {},
          "execution_count": 65
        }
      ]
    },
    {
      "cell_type": "code",
      "source": [
        "# PROSES SPLIT DATA\n",
        "\n",
        "#Pertama, buat variabel x dan y\n",
        "#variable y atau variable dependen yang digunakan yaitu product_category\n",
        "\n",
        "x = data1.drop(columns='product_name')\n",
        "y = data1['product_name']"
      ],
      "metadata": {
        "id": "YdTn203vlEmC"
      },
      "execution_count": null,
      "outputs": []
    },
    {
      "cell_type": "code",
      "source": [
        "#Split data menjadi training and testing dengan porsi 80:20\n",
        "\n",
        "x_train, x_test, y_train, y_test = train_test_split(x, y, test_size=0.2, random_state=4)"
      ],
      "metadata": {
        "id": "1iJD0uhulock"
      },
      "execution_count": null,
      "outputs": []
    },
    {
      "cell_type": "code",
      "source": [
        "#Cek shape dari data training dan testing\n",
        "\n",
        "print(x_train.shape)\n",
        "print(y_train.shape)\n",
        "print(x_test.shape)\n",
        "print(y_test.shape)"
      ],
      "metadata": {
        "colab": {
          "base_uri": "https://localhost:8080/"
        },
        "id": "SqZ7Fy2KnKui",
        "outputId": "04dc15c2-f128-49cd-d20f-0d24e62cb89a"
      },
      "execution_count": null,
      "outputs": [
        {
          "output_type": "stream",
          "name": "stdout",
          "text": [
            "(19530, 6)\n",
            "(19530,)\n",
            "(4883, 6)\n",
            "(4883,)\n"
          ]
        }
      ]
    },
    {
      "cell_type": "markdown",
      "source": [
        "-- Insight --\n",
        "\n",
        "\n",
        "---\n",
        "Dilakukan proses spilt data yang digunakan untuk memisahkan data training dan data testing, proses ini dilakukan untuk modeling pada data supervised learning. Namun disini akan dilakukan proses modeling pada data unsupervised learning, sehingga proses spilt tidak perlu untuk dilakukan\n"
      ],
      "metadata": {
        "id": "6RwfGhrKaM-m"
      }
    },
    {
      "cell_type": "code",
      "source": [
        "# Pengelompokan data yang akan dilakuakn proses modeling \n",
        "\n",
        "dataolah = data[['sale_price','num_of_item','total_price']]\n",
        "dataolah.head()\n"
      ],
      "metadata": {
        "colab": {
          "base_uri": "https://localhost:8080/",
          "height": 206
        },
        "id": "4sTpibz2a2ik",
        "outputId": "396b33cb-73bd-4a65-d747-f91cdf7f1df2"
      },
      "execution_count": null,
      "outputs": [
        {
          "output_type": "execute_result",
          "data": {
            "text/plain": [
              "   sale_price  num_of_item  total_price\n",
              "0   31.950001            1    31.950001\n",
              "1  128.000000            1   128.000000\n",
              "2   64.949997            4   259.799988\n",
              "3   15.950000            3    47.849999\n",
              "4   13.700000            3    41.099999"
            ],
            "text/html": [
              "\n",
              "  <div id=\"df-f2fdc47f-7b3e-46b8-b466-9f1a7a960c5e\">\n",
              "    <div class=\"colab-df-container\">\n",
              "      <div>\n",
              "<style scoped>\n",
              "    .dataframe tbody tr th:only-of-type {\n",
              "        vertical-align: middle;\n",
              "    }\n",
              "\n",
              "    .dataframe tbody tr th {\n",
              "        vertical-align: top;\n",
              "    }\n",
              "\n",
              "    .dataframe thead th {\n",
              "        text-align: right;\n",
              "    }\n",
              "</style>\n",
              "<table border=\"1\" class=\"dataframe\">\n",
              "  <thead>\n",
              "    <tr style=\"text-align: right;\">\n",
              "      <th></th>\n",
              "      <th>sale_price</th>\n",
              "      <th>num_of_item</th>\n",
              "      <th>total_price</th>\n",
              "    </tr>\n",
              "  </thead>\n",
              "  <tbody>\n",
              "    <tr>\n",
              "      <th>0</th>\n",
              "      <td>31.950001</td>\n",
              "      <td>1</td>\n",
              "      <td>31.950001</td>\n",
              "    </tr>\n",
              "    <tr>\n",
              "      <th>1</th>\n",
              "      <td>128.000000</td>\n",
              "      <td>1</td>\n",
              "      <td>128.000000</td>\n",
              "    </tr>\n",
              "    <tr>\n",
              "      <th>2</th>\n",
              "      <td>64.949997</td>\n",
              "      <td>4</td>\n",
              "      <td>259.799988</td>\n",
              "    </tr>\n",
              "    <tr>\n",
              "      <th>3</th>\n",
              "      <td>15.950000</td>\n",
              "      <td>3</td>\n",
              "      <td>47.849999</td>\n",
              "    </tr>\n",
              "    <tr>\n",
              "      <th>4</th>\n",
              "      <td>13.700000</td>\n",
              "      <td>3</td>\n",
              "      <td>41.099999</td>\n",
              "    </tr>\n",
              "  </tbody>\n",
              "</table>\n",
              "</div>\n",
              "      <button class=\"colab-df-convert\" onclick=\"convertToInteractive('df-f2fdc47f-7b3e-46b8-b466-9f1a7a960c5e')\"\n",
              "              title=\"Convert this dataframe to an interactive table.\"\n",
              "              style=\"display:none;\">\n",
              "        \n",
              "  <svg xmlns=\"http://www.w3.org/2000/svg\" height=\"24px\"viewBox=\"0 0 24 24\"\n",
              "       width=\"24px\">\n",
              "    <path d=\"M0 0h24v24H0V0z\" fill=\"none\"/>\n",
              "    <path d=\"M18.56 5.44l.94 2.06.94-2.06 2.06-.94-2.06-.94-.94-2.06-.94 2.06-2.06.94zm-11 1L8.5 8.5l.94-2.06 2.06-.94-2.06-.94L8.5 2.5l-.94 2.06-2.06.94zm10 10l.94 2.06.94-2.06 2.06-.94-2.06-.94-.94-2.06-.94 2.06-2.06.94z\"/><path d=\"M17.41 7.96l-1.37-1.37c-.4-.4-.92-.59-1.43-.59-.52 0-1.04.2-1.43.59L10.3 9.45l-7.72 7.72c-.78.78-.78 2.05 0 2.83L4 21.41c.39.39.9.59 1.41.59.51 0 1.02-.2 1.41-.59l7.78-7.78 2.81-2.81c.8-.78.8-2.07 0-2.86zM5.41 20L4 18.59l7.72-7.72 1.47 1.35L5.41 20z\"/>\n",
              "  </svg>\n",
              "      </button>\n",
              "      \n",
              "  <style>\n",
              "    .colab-df-container {\n",
              "      display:flex;\n",
              "      flex-wrap:wrap;\n",
              "      gap: 12px;\n",
              "    }\n",
              "\n",
              "    .colab-df-convert {\n",
              "      background-color: #E8F0FE;\n",
              "      border: none;\n",
              "      border-radius: 50%;\n",
              "      cursor: pointer;\n",
              "      display: none;\n",
              "      fill: #1967D2;\n",
              "      height: 32px;\n",
              "      padding: 0 0 0 0;\n",
              "      width: 32px;\n",
              "    }\n",
              "\n",
              "    .colab-df-convert:hover {\n",
              "      background-color: #E2EBFA;\n",
              "      box-shadow: 0px 1px 2px rgba(60, 64, 67, 0.3), 0px 1px 3px 1px rgba(60, 64, 67, 0.15);\n",
              "      fill: #174EA6;\n",
              "    }\n",
              "\n",
              "    [theme=dark] .colab-df-convert {\n",
              "      background-color: #3B4455;\n",
              "      fill: #D2E3FC;\n",
              "    }\n",
              "\n",
              "    [theme=dark] .colab-df-convert:hover {\n",
              "      background-color: #434B5C;\n",
              "      box-shadow: 0px 1px 3px 1px rgba(0, 0, 0, 0.15);\n",
              "      filter: drop-shadow(0px 1px 2px rgba(0, 0, 0, 0.3));\n",
              "      fill: #FFFFFF;\n",
              "    }\n",
              "  </style>\n",
              "\n",
              "      <script>\n",
              "        const buttonEl =\n",
              "          document.querySelector('#df-f2fdc47f-7b3e-46b8-b466-9f1a7a960c5e button.colab-df-convert');\n",
              "        buttonEl.style.display =\n",
              "          google.colab.kernel.accessAllowed ? 'block' : 'none';\n",
              "\n",
              "        async function convertToInteractive(key) {\n",
              "          const element = document.querySelector('#df-f2fdc47f-7b3e-46b8-b466-9f1a7a960c5e');\n",
              "          const dataTable =\n",
              "            await google.colab.kernel.invokeFunction('convertToInteractive',\n",
              "                                                     [key], {});\n",
              "          if (!dataTable) return;\n",
              "\n",
              "          const docLinkHtml = 'Like what you see? Visit the ' +\n",
              "            '<a target=\"_blank\" href=https://colab.research.google.com/notebooks/data_table.ipynb>data table notebook</a>'\n",
              "            + ' to learn more about interactive tables.';\n",
              "          element.innerHTML = '';\n",
              "          dataTable['output_type'] = 'display_data';\n",
              "          await google.colab.output.renderOutput(dataTable, element);\n",
              "          const docLink = document.createElement('div');\n",
              "          docLink.innerHTML = docLinkHtml;\n",
              "          element.appendChild(docLink);\n",
              "        }\n",
              "      </script>\n",
              "    </div>\n",
              "  </div>\n",
              "  "
            ]
          },
          "metadata": {},
          "execution_count": 62
        }
      ]
    },
    {
      "cell_type": "markdown",
      "source": [
        "-- Insigth --\n",
        "\n",
        "\n",
        "---\n",
        "\n",
        "Pengelompokan data dilakukan sebelum proses modeling, variable yang akan dimasukan kedalam proses modeling yaitu sale_price, num_of_item dan total_price\n"
      ],
      "metadata": {
        "id": "b54Qzk8JbO2y"
      }
    },
    {
      "cell_type": "markdown",
      "source": [
        "## Modeling"
      ],
      "metadata": {
        "id": "Z0XbYzg_nu9i"
      }
    },
    {
      "cell_type": "markdown",
      "source": [
        "Algoritma K-Means Clsutering digunakan untuk proses modeling pada data, karena dari beberapa penelitian mengenai pengolahan data transaksi menggunakan algoritma K-Means"
      ],
      "metadata": {
        "id": "rYbHmwqob2I1"
      }
    },
    {
      "cell_type": "code",
      "source": [
        "# MinMaxScaler\n",
        "\n",
        "scaler = MinMaxScaler()\n",
        "scaler.fit(dataolah)\n",
        "normalisasi = scaler.transform(dataolah)\n",
        "datafix = pd.DataFrame(normalisasi)\n",
        "datafix.columns =['sale_price','num_of_item','total_price']\n",
        "datafix.head()"
      ],
      "metadata": {
        "id": "5APetsAwn2tG",
        "colab": {
          "base_uri": "https://localhost:8080/",
          "height": 206
        },
        "outputId": "9b0058f9-5a27-4f3f-a6ed-28a2669f1c45"
      },
      "execution_count": null,
      "outputs": [
        {
          "output_type": "execute_result",
          "data": {
            "text/plain": [
              "   sale_price  num_of_item  total_price\n",
              "0    0.031963     0.000000     0.008840\n",
              "1    0.128111     0.000000     0.035432\n",
              "2    0.064996     1.000000     0.071922\n",
              "3    0.015946     0.666667     0.013242\n",
              "4    0.013694     0.666667     0.011373"
            ],
            "text/html": [
              "\n",
              "  <div id=\"df-2a8da818-9cfb-437b-a4e4-ed472a77bb26\">\n",
              "    <div class=\"colab-df-container\">\n",
              "      <div>\n",
              "<style scoped>\n",
              "    .dataframe tbody tr th:only-of-type {\n",
              "        vertical-align: middle;\n",
              "    }\n",
              "\n",
              "    .dataframe tbody tr th {\n",
              "        vertical-align: top;\n",
              "    }\n",
              "\n",
              "    .dataframe thead th {\n",
              "        text-align: right;\n",
              "    }\n",
              "</style>\n",
              "<table border=\"1\" class=\"dataframe\">\n",
              "  <thead>\n",
              "    <tr style=\"text-align: right;\">\n",
              "      <th></th>\n",
              "      <th>sale_price</th>\n",
              "      <th>num_of_item</th>\n",
              "      <th>total_price</th>\n",
              "    </tr>\n",
              "  </thead>\n",
              "  <tbody>\n",
              "    <tr>\n",
              "      <th>0</th>\n",
              "      <td>0.031963</td>\n",
              "      <td>0.000000</td>\n",
              "      <td>0.008840</td>\n",
              "    </tr>\n",
              "    <tr>\n",
              "      <th>1</th>\n",
              "      <td>0.128111</td>\n",
              "      <td>0.000000</td>\n",
              "      <td>0.035432</td>\n",
              "    </tr>\n",
              "    <tr>\n",
              "      <th>2</th>\n",
              "      <td>0.064996</td>\n",
              "      <td>1.000000</td>\n",
              "      <td>0.071922</td>\n",
              "    </tr>\n",
              "    <tr>\n",
              "      <th>3</th>\n",
              "      <td>0.015946</td>\n",
              "      <td>0.666667</td>\n",
              "      <td>0.013242</td>\n",
              "    </tr>\n",
              "    <tr>\n",
              "      <th>4</th>\n",
              "      <td>0.013694</td>\n",
              "      <td>0.666667</td>\n",
              "      <td>0.011373</td>\n",
              "    </tr>\n",
              "  </tbody>\n",
              "</table>\n",
              "</div>\n",
              "      <button class=\"colab-df-convert\" onclick=\"convertToInteractive('df-2a8da818-9cfb-437b-a4e4-ed472a77bb26')\"\n",
              "              title=\"Convert this dataframe to an interactive table.\"\n",
              "              style=\"display:none;\">\n",
              "        \n",
              "  <svg xmlns=\"http://www.w3.org/2000/svg\" height=\"24px\"viewBox=\"0 0 24 24\"\n",
              "       width=\"24px\">\n",
              "    <path d=\"M0 0h24v24H0V0z\" fill=\"none\"/>\n",
              "    <path d=\"M18.56 5.44l.94 2.06.94-2.06 2.06-.94-2.06-.94-.94-2.06-.94 2.06-2.06.94zm-11 1L8.5 8.5l.94-2.06 2.06-.94-2.06-.94L8.5 2.5l-.94 2.06-2.06.94zm10 10l.94 2.06.94-2.06 2.06-.94-2.06-.94-.94-2.06-.94 2.06-2.06.94z\"/><path d=\"M17.41 7.96l-1.37-1.37c-.4-.4-.92-.59-1.43-.59-.52 0-1.04.2-1.43.59L10.3 9.45l-7.72 7.72c-.78.78-.78 2.05 0 2.83L4 21.41c.39.39.9.59 1.41.59.51 0 1.02-.2 1.41-.59l7.78-7.78 2.81-2.81c.8-.78.8-2.07 0-2.86zM5.41 20L4 18.59l7.72-7.72 1.47 1.35L5.41 20z\"/>\n",
              "  </svg>\n",
              "      </button>\n",
              "      \n",
              "  <style>\n",
              "    .colab-df-container {\n",
              "      display:flex;\n",
              "      flex-wrap:wrap;\n",
              "      gap: 12px;\n",
              "    }\n",
              "\n",
              "    .colab-df-convert {\n",
              "      background-color: #E8F0FE;\n",
              "      border: none;\n",
              "      border-radius: 50%;\n",
              "      cursor: pointer;\n",
              "      display: none;\n",
              "      fill: #1967D2;\n",
              "      height: 32px;\n",
              "      padding: 0 0 0 0;\n",
              "      width: 32px;\n",
              "    }\n",
              "\n",
              "    .colab-df-convert:hover {\n",
              "      background-color: #E2EBFA;\n",
              "      box-shadow: 0px 1px 2px rgba(60, 64, 67, 0.3), 0px 1px 3px 1px rgba(60, 64, 67, 0.15);\n",
              "      fill: #174EA6;\n",
              "    }\n",
              "\n",
              "    [theme=dark] .colab-df-convert {\n",
              "      background-color: #3B4455;\n",
              "      fill: #D2E3FC;\n",
              "    }\n",
              "\n",
              "    [theme=dark] .colab-df-convert:hover {\n",
              "      background-color: #434B5C;\n",
              "      box-shadow: 0px 1px 3px 1px rgba(0, 0, 0, 0.15);\n",
              "      filter: drop-shadow(0px 1px 2px rgba(0, 0, 0, 0.3));\n",
              "      fill: #FFFFFF;\n",
              "    }\n",
              "  </style>\n",
              "\n",
              "      <script>\n",
              "        const buttonEl =\n",
              "          document.querySelector('#df-2a8da818-9cfb-437b-a4e4-ed472a77bb26 button.colab-df-convert');\n",
              "        buttonEl.style.display =\n",
              "          google.colab.kernel.accessAllowed ? 'block' : 'none';\n",
              "\n",
              "        async function convertToInteractive(key) {\n",
              "          const element = document.querySelector('#df-2a8da818-9cfb-437b-a4e4-ed472a77bb26');\n",
              "          const dataTable =\n",
              "            await google.colab.kernel.invokeFunction('convertToInteractive',\n",
              "                                                     [key], {});\n",
              "          if (!dataTable) return;\n",
              "\n",
              "          const docLinkHtml = 'Like what you see? Visit the ' +\n",
              "            '<a target=\"_blank\" href=https://colab.research.google.com/notebooks/data_table.ipynb>data table notebook</a>'\n",
              "            + ' to learn more about interactive tables.';\n",
              "          element.innerHTML = '';\n",
              "          dataTable['output_type'] = 'display_data';\n",
              "          await google.colab.output.renderOutput(dataTable, element);\n",
              "          const docLink = document.createElement('div');\n",
              "          docLink.innerHTML = docLinkHtml;\n",
              "          element.appendChild(docLink);\n",
              "        }\n",
              "      </script>\n",
              "    </div>\n",
              "  </div>\n",
              "  "
            ]
          },
          "metadata": {},
          "execution_count": 64
        }
      ]
    },
    {
      "cell_type": "markdown",
      "source": [
        "-- Insight --\n",
        "\n",
        "\n",
        "---\n",
        "Proses normalisasi perlu dilakukan untuk model data clustering, proses ini dilakukan untuk mengubah data dalam rentang nilai 0 sampai 1.\n"
      ],
      "metadata": {
        "id": "kTIJI8qzcpZr"
      }
    },
    {
      "cell_type": "code",
      "source": [
        "# Elbow method\n",
        "\n",
        "ssd = []\n",
        "\n",
        "for k in range(1, 10):\n",
        "    model = KMeans(n_clusters=k, random_state=11)\n",
        "    model.fit(datafix)\n",
        "    ssd.append(model.inertia_)"
      ],
      "metadata": {
        "id": "trOUF27Lcngg"
      },
      "execution_count": null,
      "outputs": []
    },
    {
      "cell_type": "code",
      "source": [
        "plt.figure(figsize=(12, 6))\n",
        "sns.lineplot(x=range(1, 10), y=ssd)\n",
        "sns.scatterplot(x=range(1, 10), y=ssd)\n",
        "plt.xticks(range(1, 10))\n",
        "plt.show()"
      ],
      "metadata": {
        "colab": {
          "base_uri": "https://localhost:8080/",
          "height": 376
        },
        "id": "76AeffyekM3I",
        "outputId": "5d0a4c6b-e125-4c81-8212-cd8e3085aa68"
      },
      "execution_count": null,
      "outputs": [
        {
          "output_type": "display_data",
          "data": {
            "text/plain": [
              "<Figure size 864x432 with 1 Axes>"
            ],
            "image/png": "[encoded data removed]"
          },
          "metadata": {
            "needs_background": "light"
          }
        }
      ]
    },
    {
      "cell_type": "markdown",
      "source": [
        "-- Insight --\n",
        "\n",
        "---\n",
        "\n",
        "Metode Elbow digunakan untuk menentukan nilai K yang optimal. Pada grafik diatas, nilai k yang optimal yaitu 2 karena memiliki sudut terkecil selain itu setelah nilai 2 nilai seterusnya memiliki grafik yang linear. Sehingga dalam perhitungan K-Means nilai K yang akan digunakan yaitu 2, 4, dan 6"
      ],
      "metadata": {
        "id": "fXSgQCMekvx-"
      }
    },
    {
      "cell_type": "code",
      "source": [
        "K = 2\n",
        "kmeans_2 = KMeans(n_clusters=K, random_state=11)\n",
        "\n",
        "start = time()\n",
        "kmeans_2.fit(datafix)\n",
        "print(f\"Done fitting kMeans in {time()-start:.3f}s\")"
      ],
      "metadata": {
        "colab": {
          "base_uri": "https://localhost:8080/"
        },
        "id": "SXo4fsVAlVqo",
        "outputId": "429cb2d4-fbee-4bbb-f35e-241d622278e6"
      },
      "execution_count": null,
      "outputs": [
        {
          "output_type": "stream",
          "name": "stdout",
          "text": [
            "Done fitting kMeans in 0.369s\n"
          ]
        }
      ]
    },
    {
      "cell_type": "code",
      "source": [
        "K = 4\n",
        "kmeans_4 = KMeans(n_clusters=K, random_state=11)\n",
        "\n",
        "start = time()\n",
        "kmeans_4.fit(datafix)\n",
        "print(f\"Done fitting kMeans in {time()-start:.3f}s\")"
      ],
      "metadata": {
        "colab": {
          "base_uri": "https://localhost:8080/"
        },
        "id": "wUL2g9mlkuQf",
        "outputId": "d47b5d84-10b3-4c6e-850c-2adbf6e0936b"
      },
      "execution_count": null,
      "outputs": [
        {
          "output_type": "stream",
          "name": "stdout",
          "text": [
            "Done fitting kMeans in 0.939s\n"
          ]
        }
      ]
    },
    {
      "cell_type": "code",
      "source": [
        "K = 6\n",
        "kmeans_6 = KMeans(n_clusters=K, random_state=11)\n",
        "\n",
        "start = time()\n",
        "kmeans_6.fit(datafix)\n",
        "print(f\"Done fitting kMeans in {time()-start:.3f}s\")"
      ],
      "metadata": {
        "colab": {
          "base_uri": "https://localhost:8080/"
        },
        "id": "ZkMEAm9qlXSS",
        "outputId": "ac3d2d41-7eec-4728-ff15-331d80d1d73f"
      },
      "execution_count": null,
      "outputs": [
        {
          "output_type": "stream",
          "name": "stdout",
          "text": [
            "Done fitting kMeans in 1.269s\n"
          ]
        }
      ]
    },
    {
      "cell_type": "code",
      "source": [
        "datahasil = data1.assign(\n",
        "    clusters_of_2=kmeans_2.predict(datafix),\n",
        "    clusters_of_4=kmeans_4.predict(datafix),\n",
        "    clusters_of_6=kmeans_6.predict(datafix),\n",
        ")\n",
        "\n",
        "with pd.option_context(\"display.max_columns\", None):\n",
        "    display(datahasil.head())"
      ],
      "metadata": {
        "colab": {
          "base_uri": "https://localhost:8080/",
          "height": 337
        },
        "id": "WlXZF_TSlY0y",
        "outputId": "47d919f7-15cc-4724-8c90-b302cd31120a"
      },
      "execution_count": null,
      "outputs": [
        {
          "output_type": "display_data",
          "data": {
            "text/plain": [
              "                                        product_name  \\\n",
              "0  Carhartt Men's Big-Tall Lightweight Thermal Kn...   \n",
              "1               Armani Exchange Zippered Logo Jacket   \n",
              "2  Speedo Women's X-Ray Vision Extreme Back Endur...   \n",
              "3  Smartwool NEW Women's PhD Outdoor Ultra Light ...   \n",
              "4  Allegra K Mens Elastic Waist Patch Pockets Str...   \n",
              "\n",
              "                product_category        product_brand  sale_price  \\\n",
              "0                    Tops & Tees             Carhartt   31.950001   \n",
              "1  Fashion Hoodies & Sweatshirts  A:X Armani Exchange  128.000000   \n",
              "2                           Swim               Speedo   64.949997   \n",
              "3                         Active            SmartWool   15.950000   \n",
              "4                          Pants            Allegra K   13.700000   \n",
              "\n",
              "   num_of_item  gender  total_price  clusters_of_2  clusters_of_4  \\\n",
              "0            1       1    31.950001              0              2   \n",
              "1            1       0   128.000000              0              2   \n",
              "2            4       0   259.799988              1              1   \n",
              "3            3       0    47.849999              1              3   \n",
              "4            3       1    41.099999              1              3   \n",
              "\n",
              "   clusters_of_6  \n",
              "0              1  \n",
              "1              1  \n",
              "2              3  \n",
              "3              0  \n",
              "4              0  "
            ],
            "text/html": [
              "\n",
              "  <div id=\"df-eeaa8183-2563-40a3-b9f9-1027d9309aa9\">\n",
              "    <div class=\"colab-df-container\">\n",
              "      <div>\n",
              "<style scoped>\n",
              "    .dataframe tbody tr th:only-of-type {\n",
              "        vertical-align: middle;\n",
              "    }\n",
              "\n",
              "    .dataframe tbody tr th {\n",
              "        vertical-align: top;\n",
              "    }\n",
              "\n",
              "    .dataframe thead th {\n",
              "        text-align: right;\n",
              "    }\n",
              "</style>\n",
              "<table border=\"1\" class=\"dataframe\">\n",
              "  <thead>\n",
              "    <tr style=\"text-align: right;\">\n",
              "      <th></th>\n",
              "      <th>product_name</th>\n",
              "      <th>product_category</th>\n",
              "      <th>product_brand</th>\n",
              "      <th>sale_price</th>\n",
              "      <th>num_of_item</th>\n",
              "      <th>gender</th>\n",
              "      <th>total_price</th>\n",
              "      <th>clusters_of_2</th>\n",
              "      <th>clusters_of_4</th>\n",
              "      <th>clusters_of_6</th>\n",
              "    </tr>\n",
              "  </thead>\n",
              "  <tbody>\n",
              "    <tr>\n",
              "      <th>0</th>\n",
              "      <td>Carhartt Men's Big-Tall Lightweight Thermal Kn...</td>\n",
              "      <td>Tops &amp; Tees</td>\n",
              "      <td>Carhartt</td>\n",
              "      <td>31.950001</td>\n",
              "      <td>1</td>\n",
              "      <td>1</td>\n",
              "      <td>31.950001</td>\n",
              "      <td>0</td>\n",
              "      <td>2</td>\n",
              "      <td>1</td>\n",
              "    </tr>\n",
              "    <tr>\n",
              "      <th>1</th>\n",
              "      <td>Armani Exchange Zippered Logo Jacket</td>\n",
              "      <td>Fashion Hoodies &amp; Sweatshirts</td>\n",
              "      <td>A:X Armani Exchange</td>\n",
              "      <td>128.000000</td>\n",
              "      <td>1</td>\n",
              "      <td>0</td>\n",
              "      <td>128.000000</td>\n",
              "      <td>0</td>\n",
              "      <td>2</td>\n",
              "      <td>1</td>\n",
              "    </tr>\n",
              "    <tr>\n",
              "      <th>2</th>\n",
              "      <td>Speedo Women's X-Ray Vision Extreme Back Endur...</td>\n",
              "      <td>Swim</td>\n",
              "      <td>Speedo</td>\n",
              "      <td>64.949997</td>\n",
              "      <td>4</td>\n",
              "      <td>0</td>\n",
              "      <td>259.799988</td>\n",
              "      <td>1</td>\n",
              "      <td>1</td>\n",
              "      <td>3</td>\n",
              "    </tr>\n",
              "    <tr>\n",
              "      <th>3</th>\n",
              "      <td>Smartwool NEW Women's PhD Outdoor Ultra Light ...</td>\n",
              "      <td>Active</td>\n",
              "      <td>SmartWool</td>\n",
              "      <td>15.950000</td>\n",
              "      <td>3</td>\n",
              "      <td>0</td>\n",
              "      <td>47.849999</td>\n",
              "      <td>1</td>\n",
              "      <td>3</td>\n",
              "      <td>0</td>\n",
              "    </tr>\n",
              "    <tr>\n",
              "      <th>4</th>\n",
              "      <td>Allegra K Mens Elastic Waist Patch Pockets Str...</td>\n",
              "      <td>Pants</td>\n",
              "      <td>Allegra K</td>\n",
              "      <td>13.700000</td>\n",
              "      <td>3</td>\n",
              "      <td>1</td>\n",
              "      <td>41.099999</td>\n",
              "      <td>1</td>\n",
              "      <td>3</td>\n",
              "      <td>0</td>\n",
              "    </tr>\n",
              "  </tbody>\n",
              "</table>\n",
              "</div>\n",
              "      <button class=\"colab-df-convert\" onclick=\"convertToInteractive('df-eeaa8183-2563-40a3-b9f9-1027d9309aa9')\"\n",
              "              title=\"Convert this dataframe to an interactive table.\"\n",
              "              style=\"display:none;\">\n",
              "        \n",
              "  <svg xmlns=\"http://www.w3.org/2000/svg\" height=\"24px\"viewBox=\"0 0 24 24\"\n",
              "       width=\"24px\">\n",
              "    <path d=\"M0 0h24v24H0V0z\" fill=\"none\"/>\n",
              "    <path d=\"M18.56 5.44l.94 2.06.94-2.06 2.06-.94-2.06-.94-.94-2.06-.94 2.06-2.06.94zm-11 1L8.5 8.5l.94-2.06 2.06-.94-2.06-.94L8.5 2.5l-.94 2.06-2.06.94zm10 10l.94 2.06.94-2.06 2.06-.94-2.06-.94-.94-2.06-.94 2.06-2.06.94z\"/><path d=\"M17.41 7.96l-1.37-1.37c-.4-.4-.92-.59-1.43-.59-.52 0-1.04.2-1.43.59L10.3 9.45l-7.72 7.72c-.78.78-.78 2.05 0 2.83L4 21.41c.39.39.9.59 1.41.59.51 0 1.02-.2 1.41-.59l7.78-7.78 2.81-2.81c.8-.78.8-2.07 0-2.86zM5.41 20L4 18.59l7.72-7.72 1.47 1.35L5.41 20z\"/>\n",
              "  </svg>\n",
              "      </button>\n",
              "      \n",
              "  <style>\n",
              "    .colab-df-container {\n",
              "      display:flex;\n",
              "      flex-wrap:wrap;\n",
              "      gap: 12px;\n",
              "    }\n",
              "\n",
              "    .colab-df-convert {\n",
              "      background-color: #E8F0FE;\n",
              "      border: none;\n",
              "      border-radius: 50%;\n",
              "      cursor: pointer;\n",
              "      display: none;\n",
              "      fill: #1967D2;\n",
              "      height: 32px;\n",
              "      padding: 0 0 0 0;\n",
              "      width: 32px;\n",
              "    }\n",
              "\n",
              "    .colab-df-convert:hover {\n",
              "      background-color: #E2EBFA;\n",
              "      box-shadow: 0px 1px 2px rgba(60, 64, 67, 0.3), 0px 1px 3px 1px rgba(60, 64, 67, 0.15);\n",
              "      fill: #174EA6;\n",
              "    }\n",
              "\n",
              "    [theme=dark] .colab-df-convert {\n",
              "      background-color: #3B4455;\n",
              "      fill: #D2E3FC;\n",
              "    }\n",
              "\n",
              "    [theme=dark] .colab-df-convert:hover {\n",
              "      background-color: #434B5C;\n",
              "      box-shadow: 0px 1px 3px 1px rgba(0, 0, 0, 0.15);\n",
              "      filter: drop-shadow(0px 1px 2px rgba(0, 0, 0, 0.3));\n",
              "      fill: #FFFFFF;\n",
              "    }\n",
              "  </style>\n",
              "\n",
              "      <script>\n",
              "        const buttonEl =\n",
              "          document.querySelector('#df-eeaa8183-2563-40a3-b9f9-1027d9309aa9 button.colab-df-convert');\n",
              "        buttonEl.style.display =\n",
              "          google.colab.kernel.accessAllowed ? 'block' : 'none';\n",
              "\n",
              "        async function convertToInteractive(key) {\n",
              "          const element = document.querySelector('#df-eeaa8183-2563-40a3-b9f9-1027d9309aa9');\n",
              "          const dataTable =\n",
              "            await google.colab.kernel.invokeFunction('convertToInteractive',\n",
              "                                                     [key], {});\n",
              "          if (!dataTable) return;\n",
              "\n",
              "          const docLinkHtml = 'Like what you see? Visit the ' +\n",
              "            '<a target=\"_blank\" href=https://colab.research.google.com/notebooks/data_table.ipynb>data table notebook</a>'\n",
              "            + ' to learn more about interactive tables.';\n",
              "          element.innerHTML = '';\n",
              "          dataTable['output_type'] = 'display_data';\n",
              "          await google.colab.output.renderOutput(dataTable, element);\n",
              "          const docLink = document.createElement('div');\n",
              "          docLink.innerHTML = docLinkHtml;\n",
              "          element.appendChild(docLink);\n",
              "        }\n",
              "      </script>\n",
              "    </div>\n",
              "  </div>\n",
              "  "
            ]
          },
          "metadata": {}
        }
      ]
    },
    {
      "cell_type": "code",
      "source": [
        "datahasil.tail()"
      ],
      "metadata": {
        "colab": {
          "base_uri": "https://localhost:8080/",
          "height": 285
        },
        "id": "DLPrKcKNn4zI",
        "outputId": "24f43886-3e3e-45f2-e1a1-8d82f93ffde1"
      },
      "execution_count": null,
      "outputs": [
        {
          "output_type": "execute_result",
          "data": {
            "text/plain": [
              "                                            product_name   product_category  \\\n",
              "24408          Bjorn Borg Men's Side Stretch Boxer Brief          Underwear   \n",
              "24409              Rip Curl Untapped Walk Shorts - Black             Shorts   \n",
              "24410  Fuzzdandy - Mens Cable Knit Reindeer Christmas...           Sweaters   \n",
              "24411           Duofold Men's Big-Tall Mid Weight Bottom          Underwear   \n",
              "24412  Men's Double Breasted Wool Black Three-Quarter...  Outerwear & Coats   \n",
              "\n",
              "      product_brand  sale_price  num_of_item  gender  total_price  \\\n",
              "24408    Bjorn Borg   25.000000            4       1   100.000000   \n",
              "24409      Rip Curl   44.990002            2       1    89.980003   \n",
              "24410     Fuzzdandy   42.000000            3       1   126.000000   \n",
              "24411       Duofold   31.000000            1       1    31.000000   \n",
              "24412        Cianni   89.949997            4       1   359.799988   \n",
              "\n",
              "       clusters_of_2  clusters_of_4  clusters_of_6  \n",
              "24408              1              1              3  \n",
              "24409              0              0              2  \n",
              "24410              1              3              0  \n",
              "24411              0              2              1  \n",
              "24412              1              1              3  "
            ],
            "text/html": [
              "\n",
              "  <div id=\"df-01360e0a-ae99-41e6-b40f-c899bb546f79\">\n",
              "    <div class=\"colab-df-container\">\n",
              "      <div>\n",
              "<style scoped>\n",
              "    .dataframe tbody tr th:only-of-type {\n",
              "        vertical-align: middle;\n",
              "    }\n",
              "\n",
              "    .dataframe tbody tr th {\n",
              "        vertical-align: top;\n",
              "    }\n",
              "\n",
              "    .dataframe thead th {\n",
              "        text-align: right;\n",
              "    }\n",
              "</style>\n",
              "<table border=\"1\" class=\"dataframe\">\n",
              "  <thead>\n",
              "    <tr style=\"text-align: right;\">\n",
              "      <th></th>\n",
              "      <th>product_name</th>\n",
              "      <th>product_category</th>\n",
              "      <th>product_brand</th>\n",
              "      <th>sale_price</th>\n",
              "      <th>num_of_item</th>\n",
              "      <th>gender</th>\n",
              "      <th>total_price</th>\n",
              "      <th>clusters_of_2</th>\n",
              "      <th>clusters_of_4</th>\n",
              "      <th>clusters_of_6</th>\n",
              "    </tr>\n",
              "  </thead>\n",
              "  <tbody>\n",
              "    <tr>\n",
              "      <th>24408</th>\n",
              "      <td>Bjorn Borg Men's Side Stretch Boxer Brief</td>\n",
              "      <td>Underwear</td>\n",
              "      <td>Bjorn Borg</td>\n",
              "      <td>25.000000</td>\n",
              "      <td>4</td>\n",
              "      <td>1</td>\n",
              "      <td>100.000000</td>\n",
              "      <td>1</td>\n",
              "      <td>1</td>\n",
              "      <td>3</td>\n",
              "    </tr>\n",
              "    <tr>\n",
              "      <th>24409</th>\n",
              "      <td>Rip Curl Untapped Walk Shorts - Black</td>\n",
              "      <td>Shorts</td>\n",
              "      <td>Rip Curl</td>\n",
              "      <td>44.990002</td>\n",
              "      <td>2</td>\n",
              "      <td>1</td>\n",
              "      <td>89.980003</td>\n",
              "      <td>0</td>\n",
              "      <td>0</td>\n",
              "      <td>2</td>\n",
              "    </tr>\n",
              "    <tr>\n",
              "      <th>24410</th>\n",
              "      <td>Fuzzdandy - Mens Cable Knit Reindeer Christmas...</td>\n",
              "      <td>Sweaters</td>\n",
              "      <td>Fuzzdandy</td>\n",
              "      <td>42.000000</td>\n",
              "      <td>3</td>\n",
              "      <td>1</td>\n",
              "      <td>126.000000</td>\n",
              "      <td>1</td>\n",
              "      <td>3</td>\n",
              "      <td>0</td>\n",
              "    </tr>\n",
              "    <tr>\n",
              "      <th>24411</th>\n",
              "      <td>Duofold Men's Big-Tall Mid Weight Bottom</td>\n",
              "      <td>Underwear</td>\n",
              "      <td>Duofold</td>\n",
              "      <td>31.000000</td>\n",
              "      <td>1</td>\n",
              "      <td>1</td>\n",
              "      <td>31.000000</td>\n",
              "      <td>0</td>\n",
              "      <td>2</td>\n",
              "      <td>1</td>\n",
              "    </tr>\n",
              "    <tr>\n",
              "      <th>24412</th>\n",
              "      <td>Men's Double Breasted Wool Black Three-Quarter...</td>\n",
              "      <td>Outerwear &amp; Coats</td>\n",
              "      <td>Cianni</td>\n",
              "      <td>89.949997</td>\n",
              "      <td>4</td>\n",
              "      <td>1</td>\n",
              "      <td>359.799988</td>\n",
              "      <td>1</td>\n",
              "      <td>1</td>\n",
              "      <td>3</td>\n",
              "    </tr>\n",
              "  </tbody>\n",
              "</table>\n",
              "</div>\n",
              "      <button class=\"colab-df-convert\" onclick=\"convertToInteractive('df-01360e0a-ae99-41e6-b40f-c899bb546f79')\"\n",
              "              title=\"Convert this dataframe to an interactive table.\"\n",
              "              style=\"display:none;\">\n",
              "        \n",
              "  <svg xmlns=\"http://www.w3.org/2000/svg\" height=\"24px\"viewBox=\"0 0 24 24\"\n",
              "       width=\"24px\">\n",
              "    <path d=\"M0 0h24v24H0V0z\" fill=\"none\"/>\n",
              "    <path d=\"M18.56 5.44l.94 2.06.94-2.06 2.06-.94-2.06-.94-.94-2.06-.94 2.06-2.06.94zm-11 1L8.5 8.5l.94-2.06 2.06-.94-2.06-.94L8.5 2.5l-.94 2.06-2.06.94zm10 10l.94 2.06.94-2.06 2.06-.94-2.06-.94-.94-2.06-.94 2.06-2.06.94z\"/><path d=\"M17.41 7.96l-1.37-1.37c-.4-.4-.92-.59-1.43-.59-.52 0-1.04.2-1.43.59L10.3 9.45l-7.72 7.72c-.78.78-.78 2.05 0 2.83L4 21.41c.39.39.9.59 1.41.59.51 0 1.02-.2 1.41-.59l7.78-7.78 2.81-2.81c.8-.78.8-2.07 0-2.86zM5.41 20L4 18.59l7.72-7.72 1.47 1.35L5.41 20z\"/>\n",
              "  </svg>\n",
              "      </button>\n",
              "      \n",
              "  <style>\n",
              "    .colab-df-container {\n",
              "      display:flex;\n",
              "      flex-wrap:wrap;\n",
              "      gap: 12px;\n",
              "    }\n",
              "\n",
              "    .colab-df-convert {\n",
              "      background-color: #E8F0FE;\n",
              "      border: none;\n",
              "      border-radius: 50%;\n",
              "      cursor: pointer;\n",
              "      display: none;\n",
              "      fill: #1967D2;\n",
              "      height: 32px;\n",
              "      padding: 0 0 0 0;\n",
              "      width: 32px;\n",
              "    }\n",
              "\n",
              "    .colab-df-convert:hover {\n",
              "      background-color: #E2EBFA;\n",
              "      box-shadow: 0px 1px 2px rgba(60, 64, 67, 0.3), 0px 1px 3px 1px rgba(60, 64, 67, 0.15);\n",
              "      fill: #174EA6;\n",
              "    }\n",
              "\n",
              "    [theme=dark] .colab-df-convert {\n",
              "      background-color: #3B4455;\n",
              "      fill: #D2E3FC;\n",
              "    }\n",
              "\n",
              "    [theme=dark] .colab-df-convert:hover {\n",
              "      background-color: #434B5C;\n",
              "      box-shadow: 0px 1px 3px 1px rgba(0, 0, 0, 0.15);\n",
              "      filter: drop-shadow(0px 1px 2px rgba(0, 0, 0, 0.3));\n",
              "      fill: #FFFFFF;\n",
              "    }\n",
              "  </style>\n",
              "\n",
              "      <script>\n",
              "        const buttonEl =\n",
              "          document.querySelector('#df-01360e0a-ae99-41e6-b40f-c899bb546f79 button.colab-df-convert');\n",
              "        buttonEl.style.display =\n",
              "          google.colab.kernel.accessAllowed ? 'block' : 'none';\n",
              "\n",
              "        async function convertToInteractive(key) {\n",
              "          const element = document.querySelector('#df-01360e0a-ae99-41e6-b40f-c899bb546f79');\n",
              "          const dataTable =\n",
              "            await google.colab.kernel.invokeFunction('convertToInteractive',\n",
              "                                                     [key], {});\n",
              "          if (!dataTable) return;\n",
              "\n",
              "          const docLinkHtml = 'Like what you see? Visit the ' +\n",
              "            '<a target=\"_blank\" href=https://colab.research.google.com/notebooks/data_table.ipynb>data table notebook</a>'\n",
              "            + ' to learn more about interactive tables.';\n",
              "          element.innerHTML = '';\n",
              "          dataTable['output_type'] = 'display_data';\n",
              "          await google.colab.output.renderOutput(dataTable, element);\n",
              "          const docLink = document.createElement('div');\n",
              "          docLink.innerHTML = docLinkHtml;\n",
              "          element.appendChild(docLink);\n",
              "        }\n",
              "      </script>\n",
              "    </div>\n",
              "  </div>\n",
              "  "
            ]
          },
          "metadata": {},
          "execution_count": 80
        }
      ]
    },
    {
      "cell_type": "markdown",
      "source": [
        "-- Insight --\n",
        "\n",
        "\n",
        "---\n",
        "\n",
        "Tabel diatas merupakan hasil perhitungan algoritma K-means dengan nilai K-2, K-4, dan K-6. Dapat dilihat pada data index ke-0 untuk K-2 masuk kedalam cluster 0, K-4 masuk kedalam cluster 2, dan K-6 masuk kedalam cluster 1"
      ],
      "metadata": {
        "id": "tVGOyx5xljm4"
      }
    },
    {
      "cell_type": "markdown",
      "source": [
        "## Evaluation"
      ],
      "metadata": {
        "id": "ZHu-ZQVJmStL"
      }
    },
    {
      "cell_type": "code",
      "source": [
        "#evaluasi silhouette coefficient\n",
        "\n",
        "X_scaled_sample = datafix[0:int(len(datafix)*0.2)]"
      ],
      "metadata": {
        "id": "xzGZWz1WldBO"
      },
      "execution_count": null,
      "outputs": []
    },
    {
      "cell_type": "code",
      "source": [
        "silhouette_scores = []\n",
        "\n",
        "for k in range(2, 10):\n",
        "    model = KMeans(n_clusters=k, random_state=11)\n",
        "    model.fit(X_scaled_sample)\n",
        "    silhouette_scores.append(silhouette_score(X_scaled_sample, model.labels_))"
      ],
      "metadata": {
        "id": "rKQ0Z_LBm0DB"
      },
      "execution_count": null,
      "outputs": []
    },
    {
      "cell_type": "code",
      "source": [
        "plt.figure(figsize=(12, 6))\n",
        "sns.lineplot(x=range(2, 10), y=silhouette_scores)\n",
        "sns.scatterplot(x=range(2, 10), y=silhouette_scores)\n",
        "plt.xticks(range(1, 10))\n",
        "plt.show()"
      ],
      "metadata": {
        "colab": {
          "base_uri": "https://localhost:8080/",
          "height": 374
        },
        "id": "FONwTb9im1Xd",
        "outputId": "b1d26c05-2727-49c4-f609-26d6cab6e9f4"
      },
      "execution_count": null,
      "outputs": [
        {
          "output_type": "display_data",
          "data": {
            "text/plain": [
              "<Figure size 864x432 with 1 Axes>"
            ],
            "image/png": "[encoded data removed]"
          },
          "metadata": {
            "needs_background": "light"
          }
        }
      ]
    },
    {
      "cell_type": "markdown",
      "source": [
        "-- Insight --\n",
        "\n",
        "---\n",
        "\n",
        "Dari hasil perhitungan slhouette coefficeint nilai K tertinggi ada pada K-4 dengan nilai silhouette 0.85, dari nilai tersebut menurut Kaufman dan Rousseeuw dapat dikatakan bahwa cluster yang terbentuk masuk kedalam Strong Cluster"
      ],
      "metadata": {
        "id": "8Xdn24f4oPwg"
      }
    },
    {
      "cell_type": "code",
      "source": [
        "# visualisasi hasil cluster\n",
        "\n",
        "label = []\n",
        "nilai = []\n",
        "cluster = datahasil['clusters_of_4'].nunique()\n",
        "for i in range(cluster):\n",
        "  nilai.append(datahasil[datahasil['clusters_of_4'] == i]['product_name'].count())\n",
        "  label.append(\"Cluster\" + str(i))\n"
      ],
      "metadata": {
        "id": "mpJ-jRvzm5ev"
      },
      "execution_count": null,
      "outputs": []
    },
    {
      "cell_type": "code",
      "source": [
        "plt.pie(nilai, labels = label, autopct='%2.1f%%')\n",
        "plt.show()"
      ],
      "metadata": {
        "colab": {
          "base_uri": "https://localhost:8080/",
          "height": 248
        },
        "id": "DDklkMu_pUId",
        "outputId": "1d24bf62-1b6f-43f0-cf26-29d4c5e4e504"
      },
      "execution_count": null,
      "outputs": [
        {
          "output_type": "display_data",
          "data": {
            "text/plain": [
              "<Figure size 432x288 with 1 Axes>"
            ],
            "image/png": "[encoded data removed]"
          },
          "metadata": {}
        }
      ]
    },
    {
      "cell_type": "markdown",
      "source": [
        "-- Insight --\n",
        "\n",
        "\n",
        "---\n",
        "Dari visualisasi pie chart, didapatkan bahwa cluster0 memiliki total produk 28.8 %, cluster1 memiliki total produk 15.7%, cluster2 memiliki total produk 42.8%, cluster1 memiliki total produk 12.7%,\n"
      ],
      "metadata": {
        "id": "W-2kJ7szpbac"
      }
    },
    {
      "cell_type": "markdown",
      "source": [
        "## Conclusion"
      ],
      "metadata": {
        "id": "vKNVhHfQr4md"
      }
    },
    {
      "cell_type": "markdown",
      "source": [
        "\n",
        "\n",
        "Dengan menggunakan data berupa penjualan produk, dapat dilakukan proses modeling pada data dengan menggunakan metode clustering. Metode clustering yang digunakan yaitu algoritma K-Means dan evaluasi pengujian dengan menggunakan Silhouette Coefficient. Dari hasil pengujian didapatkan nilai silhouette tertinggi yaitu 0.85 pada K = 4, yang dimana:\n",
        "*   cluster 2 merupakan produk yang memiliki tingkat penjualan sangat tinggi\n",
        "*   cluster 0 merupakan produk yang memiliki tingkat penjualan cukup tinggi\n",
        "*   cluster 3 merupakan produk yang memiliki tingkat penjualan kurang tinggi\n",
        "*   cluster 1 merupakan produk yang memiliki tingkat penjualan sangat rendah\n",
        "\n",
        "Sehingga menurut Kaufman dan Rousseeuw dengan nilai silhouette 0.85 dapat dinyatakan bahwa cluster yang terbentuk merupakan Cluster Strong Stuctur, karena memiliki nilai silhouette lebih dari 0.7.\n",
        "\n",
        " "
      ],
      "metadata": {
        "id": "3jg6cOL3qMhZ"
      }
    },
    {
      "cell_type": "markdown",
      "source": [
        "Dari hasil clustering tersebut, perusahaan dapat menentukan pricing strategi sesuai dengan hasil cluster yang didapatkan, untuk produk yang masuk kedalam cluster 2 dan cluster 0 perusahaan dapat meningatkan  harga jual agar perusahaan mendapatkan profit yang lebih tinggi, sedangkan untuk produk yang masuk kedalam cluster 3 dan cluster 1 perusahaan dapat menurunkan harga produk atau memberikan diskon. Namun lebih baik perusahaan melakukan risset lebih lanjut mengapa produk tersebut memilik tingkat penjualan yang rendah"
      ],
      "metadata": {
        "id": "U8xP-M5A7dH1"
      }
    }
  ]
}